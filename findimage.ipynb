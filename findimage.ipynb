{
 "cells": [
  {
   "cell_type": "markdown",
   "metadata": {},
   "source": [
    "# Assessment of Roofs Using Satellite Images"
   ]
  },
  {
   "cell_type": "markdown",
   "metadata": {},
   "source": [
    "# Part I: Data Preprocessing\n"
   ]
  },
  {
   "cell_type": "code",
   "execution_count": 1,
   "metadata": {},
   "outputs": [],
   "source": [
    "import geopandas as gpd\n",
    "import pandas as pd\n",
    "import ee # earth engine\n",
    "from shapely import wkt # for "
   ]
  },
  {
   "cell_type": "markdown",
   "metadata": {},
   "source": [
    "### I. Get polygon points\n",
    "1. Geojson file -> CSV file"
   ]
  },
  {
   "cell_type": "code",
   "execution_count": null,
   "metadata": {},
   "outputs": [],
   "source": [
    "# Load the GeoJSON file\n",
    "file_path = 'data/sample_geojson_file.geojson'\n",
    "gdf = gpd.read_file(file_path)\n",
    "\n",
    "# Define the output CSV file path\n",
    "output_csv_path = 'data/sample.csv'\n",
    "\n",
    "# Save the GeoDataFrame as a CSV file, excluding the index\n",
    "gdf.to_csv(output_csv_path, index=False)"
   ]
  },
  {
   "cell_type": "markdown",
   "metadata": {},
   "source": [
    "2. CSV file -> correct coordinates format (need to be revised)"
   ]
  },
  {
   "cell_type": "code",
   "execution_count": null,
   "metadata": {},
   "outputs": [],
   "source": [
    "# Define a function to convert WKT to coordinates\n",
    "def wkt_to_coordinates(wkt_string):\n",
    "    polygon_geometry = wkt.loads(wkt_string)\n",
    "    return [[coord[0], coord[1]] for coord in polygon_geometry.exterior.coords]\n",
    "# Apply the function to the entire column\n",
    "df['geometry_coordinates'] = df['geometry'].apply(wkt_to_coordinates)\n",
    "\n",
    "# Drop the original WKT column if needed\n",
    "df = df.drop(columns=['geometry'])\n",
    "print(df)"
   ]
  },
  {
   "cell_type": "markdown",
   "metadata": {},
   "source": [
    "### II. Import dataset (csv version)\n",
    "\n",
    "1. Use the following chunk for importing processed csv file.\n",
    "2. Extract the coordinates column and store as a list."
   ]
  },
  {
   "cell_type": "code",
   "execution_count": 2,
   "metadata": {},
   "outputs": [],
   "source": [
    "# Load the CSV file\n",
    "csv_file_path = 'data/sample1.csv'\n",
    "df = pd.read_csv(csv_file_path)\n",
    "geometry_coordinates_list = df['geometry_coordinates'].tolist()"
   ]
  },
  {
   "cell_type": "markdown",
   "metadata": {},
   "source": [
    "# Part II: Finding Images of Roofs"
   ]
  },
  {
   "cell_type": "markdown",
   "metadata": {},
   "source": [
    "### I. Authenticate and initialize the earth engine api."
   ]
  },
  {
   "cell_type": "code",
   "execution_count": 3,
   "metadata": {},
   "outputs": [],
   "source": [
    "ee.Authenticate()\n",
    "ee.Initialize(project='baxsxasd')"
   ]
  },
  {
   "cell_type": "markdown",
   "metadata": {},
   "source": [
    "### II. Define the get_image_download_url() function.\n"
   ]
  },
  {
   "cell_type": "code",
   "execution_count": 4,
   "metadata": {},
   "outputs": [],
   "source": [
    "def get_image_download_url(polygon_coords, start_date, end_date, vis_params, scale=0.5):\n",
    "    \"\"\"\n",
    "    Generate a direct download URL for an image with visualization parameters.\n",
    "    \n",
    "    :param polygon_coords: Coordinates for the polygon defining the area of interest.\n",
    "    :param start_date: Start date for the image collection filter.\n",
    "    :param end_date: End date for the image collection filter.\n",
    "    :param vis_params: Visualization parameters including 'min', 'max', and bands 'palette' if needed.\n",
    "    :param scale: Scale in meters; 1 meter is typical for NAIP imagery.\n",
    "    :return: A URL from which the image can be directly downloaded.\n",
    "    \"\"\"\n",
    "    roi = ee.Geometry.Polygon([polygon_coords])\n",
    "    \n",
    "    # Filter the NAIP ImageCollection\n",
    "    naip_collection = ee.ImageCollection('USDA/NAIP/DOQQ') \\\n",
    "                        .filterBounds(roi) \\\n",
    "                        .filterDate(start_date, end_date)\n",
    "    \n",
    "    # Get the median image, clip to the ROI, and select RGB bands\n",
    "    median_image = naip_collection.median().clip(roi).select(['R', 'G', 'B'])\n",
    "    \n",
    "    # Generate the download URL with visualization parameters\n",
    "    url = median_image.getThumbURL({\n",
    "        'region': roi.getInfo()['coordinates'],\n",
    "        'scale': scale,\n",
    "        **vis_params  # Unpack visualization parameters\n",
    "    })\n",
    "    \n",
    "    return url\n",
    "\n",
    "# Visualization parameters for floating-point data\n",
    "vis_params = {\n",
    "    'min': 0.0,\n",
    "    'max': 255.0,\n",
    "    'format': 'png'\n",
    "}"
   ]
  },
  {
   "cell_type": "markdown",
   "metadata": {},
   "source": [
    "### III. Extract and Store Images\n",
    "1. Extract the image url links from gee."
   ]
  },
  {
   "cell_type": "code",
   "execution_count": 5,
   "metadata": {},
   "outputs": [
    {
     "name": "stdout",
     "output_type": "stream",
     "text": [
      "https://earthengine.googleapis.com/v1/projects/baxsxasd/thumbnails/ce11358b234dcf42e1bdc30ec87aeb3e-feea549902d2170a8a1265f31f7765ea:getPixels\n",
      "https://earthengine.googleapis.com/v1/projects/baxsxasd/thumbnails/d007e012d5d5ccbd5dc966b0971600d6-f1263c5f71198102388d684635f63dc5:getPixels\n",
      "https://earthengine.googleapis.com/v1/projects/baxsxasd/thumbnails/bceb4d1cffdfe3a49aff43d584524c5a-0d6fec0007f274166b72027f1eb0a338:getPixels\n",
      "https://earthengine.googleapis.com/v1/projects/baxsxasd/thumbnails/113dc39f7695b2fbc35ebc330e987e5e-0f215038a38920029ee5e79c088a8faa:getPixels\n",
      "https://earthengine.googleapis.com/v1/projects/baxsxasd/thumbnails/5787d848d5901893da964229d58a9fd2-9f7e1a3ce6211182fb8067d2a594a821:getPixels\n",
      "https://earthengine.googleapis.com/v1/projects/baxsxasd/thumbnails/41d334f0f6d396323a595f23be3375a8-99cb6d4f7287cb78ef4a29cfb92ab6ae:getPixels\n",
      "https://earthengine.googleapis.com/v1/projects/baxsxasd/thumbnails/9a0fe6be41f1441bbda9d1bd1594aa9c-62ec0dc2604892702a817c520b48e213:getPixels\n",
      "https://earthengine.googleapis.com/v1/projects/baxsxasd/thumbnails/dd8bedf2412055b6cb72a84a4c720a18-72c4b7723a81c904508ee7b0ca1f3ca2:getPixels\n",
      "https://earthengine.googleapis.com/v1/projects/baxsxasd/thumbnails/56bbb2bd6a543fb9dabab69d730e808c-8a7ec443b86712d2cd5486a097db58dd:getPixels\n",
      "https://earthengine.googleapis.com/v1/projects/baxsxasd/thumbnails/cab48cbac93ad3ae53e10433d6330703-3752b9a7d46ee0311fc5d75366a135d4:getPixels\n",
      "https://earthengine.googleapis.com/v1/projects/baxsxasd/thumbnails/fa7e43f16427b77170c8ace2453a054d-bd389f6fe9f52905a1ff9e9f55b874d7:getPixels\n",
      "https://earthengine.googleapis.com/v1/projects/baxsxasd/thumbnails/f4f01cc68ec311e958a3d46d4af92083-c244945e30f7dd0c51af82275bb5e022:getPixels\n",
      "https://earthengine.googleapis.com/v1/projects/baxsxasd/thumbnails/8e4bbb325c175fe3b02fa6f400a96057-75a8993d854c1ea7cb4eab99d8a65f5c:getPixels\n",
      "https://earthengine.googleapis.com/v1/projects/baxsxasd/thumbnails/e86b741afc4d14e8da9aa985e8706d3a-e9c4ecf1cd6a85a6c1c37a922ab4a31f:getPixels\n",
      "https://earthengine.googleapis.com/v1/projects/baxsxasd/thumbnails/a696ec795dec3492ded833354e7f35fb-39b37154c28a42c207a8582da83227d7:getPixels\n",
      "https://earthengine.googleapis.com/v1/projects/baxsxasd/thumbnails/24116a41baf0bb8ee662ae68dab05720-cadc3ad034daf13490c857f04b890fb5:getPixels\n",
      "https://earthengine.googleapis.com/v1/projects/baxsxasd/thumbnails/33d9230f8160609004243540711f7277-2f83e59fa1afc279a3e9ac50c52167ba:getPixels\n",
      "https://earthengine.googleapis.com/v1/projects/baxsxasd/thumbnails/957bf93d5695967756d8d06be75a7588-eab97ce9f404fcfc326610527426f607:getPixels\n",
      "https://earthengine.googleapis.com/v1/projects/baxsxasd/thumbnails/bd537e1520c15b549cee04bbe0f1e3ca-11e4b025c365bf5462b53145f7dd2668:getPixels\n",
      "https://earthengine.googleapis.com/v1/projects/baxsxasd/thumbnails/acb5f65c7474ef001e0bc639f4cd0c12-771884a2dcdba6c8f51b70f17cc82379:getPixels\n"
     ]
    }
   ],
   "source": [
    "for polygon_coords_str in geometry_coordinates_list:\n",
    "    # Convert the string representation to a list (assuming it's safely formatted)\n",
    "    polygon_coords = eval(polygon_coords_str)\n",
    "    \n",
    "    # Generate the download URL\n",
    "    download_url = get_image_download_url(polygon_coords, '2022-01-01', '2022-02-15', vis_params, scale=0.5)\n",
    "    print(download_url)"
   ]
  },
  {
   "cell_type": "markdown",
   "metadata": {},
   "source": [
    "2. Store the images from the links."
   ]
  },
  {
   "cell_type": "markdown",
   "metadata": {},
   "source": [
    "3. Store the pixels and image links to the database."
   ]
  },
  {
   "cell_type": "markdown",
   "metadata": {},
   "source": [
    "# Part III: Database?"
   ]
  },
  {
   "cell_type": "markdown",
   "metadata": {},
   "source": [
    "# Part IV: Image Analysis"
   ]
  }
 ],
 "metadata": {
  "kernelspec": {
   "display_name": "base",
   "language": "python",
   "name": "python3"
  },
  "language_info": {
   "codemirror_mode": {
    "name": "ipython",
    "version": 3
   },
   "file_extension": ".py",
   "mimetype": "text/x-python",
   "name": "python",
   "nbconvert_exporter": "python",
   "pygments_lexer": "ipython3",
   "version": "3.9.12"
  }
 },
 "nbformat": 4,
 "nbformat_minor": 2
}

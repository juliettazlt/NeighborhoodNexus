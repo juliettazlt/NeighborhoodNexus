{
 "cells": [
  {
   "cell_type": "code",
   "execution_count": 2,
   "metadata": {},
   "outputs": [
    {
     "name": "stdout",
     "output_type": "stream",
     "text": [
      "Collecting osmnx\n",
      "  Downloading osmnx-1.9.1-py3-none-any.whl.metadata (4.9 kB)\n",
      "Requirement already satisfied: geopandas>=0.12 in /Users/Owner1/opt/anaconda3/envs/myenv/lib/python3.12/site-packages (from osmnx) (0.14.3)\n",
      "Requirement already satisfied: networkx>=2.5 in /Users/Owner1/opt/anaconda3/envs/myenv/lib/python3.12/site-packages (from osmnx) (3.2.1)\n",
      "Requirement already satisfied: numpy>=1.20 in /Users/Owner1/opt/anaconda3/envs/myenv/lib/python3.12/site-packages (from osmnx) (1.26.3)\n",
      "Requirement already satisfied: pandas>=1.1 in /Users/Owner1/opt/anaconda3/envs/myenv/lib/python3.12/site-packages (from osmnx) (2.2.0)\n",
      "Requirement already satisfied: requests>=2.27 in /Users/Owner1/opt/anaconda3/envs/myenv/lib/python3.12/site-packages (from osmnx) (2.31.0)\n",
      "Requirement already satisfied: shapely>=2.0 in /Users/Owner1/opt/anaconda3/envs/myenv/lib/python3.12/site-packages (from osmnx) (2.0.2)\n",
      "Requirement already satisfied: fiona>=1.8.21 in /Users/Owner1/opt/anaconda3/envs/myenv/lib/python3.12/site-packages (from geopandas>=0.12->osmnx) (1.9.5)\n",
      "Requirement already satisfied: packaging in /Users/Owner1/opt/anaconda3/envs/myenv/lib/python3.12/site-packages (from geopandas>=0.12->osmnx) (23.2)\n",
      "Requirement already satisfied: pyproj>=3.3.0 in /Users/Owner1/opt/anaconda3/envs/myenv/lib/python3.12/site-packages (from geopandas>=0.12->osmnx) (3.6.1)\n",
      "Requirement already satisfied: python-dateutil>=2.8.2 in /Users/Owner1/opt/anaconda3/envs/myenv/lib/python3.12/site-packages (from pandas>=1.1->osmnx) (2.8.2)\n",
      "Requirement already satisfied: pytz>=2020.1 in /Users/Owner1/opt/anaconda3/envs/myenv/lib/python3.12/site-packages (from pandas>=1.1->osmnx) (2023.4)\n",
      "Requirement already satisfied: tzdata>=2022.7 in /Users/Owner1/opt/anaconda3/envs/myenv/lib/python3.12/site-packages (from pandas>=1.1->osmnx) (2023.4)\n",
      "Requirement already satisfied: charset-normalizer<4,>=2 in /Users/Owner1/opt/anaconda3/envs/myenv/lib/python3.12/site-packages (from requests>=2.27->osmnx) (3.3.2)\n",
      "Requirement already satisfied: idna<4,>=2.5 in /Users/Owner1/opt/anaconda3/envs/myenv/lib/python3.12/site-packages (from requests>=2.27->osmnx) (3.6)\n",
      "Requirement already satisfied: urllib3<3,>=1.21.1 in /Users/Owner1/opt/anaconda3/envs/myenv/lib/python3.12/site-packages (from requests>=2.27->osmnx) (2.1.0)\n",
      "Requirement already satisfied: certifi>=2017.4.17 in /Users/Owner1/opt/anaconda3/envs/myenv/lib/python3.12/site-packages (from requests>=2.27->osmnx) (2023.11.17)\n",
      "Requirement already satisfied: attrs>=19.2.0 in /Users/Owner1/opt/anaconda3/envs/myenv/lib/python3.12/site-packages (from fiona>=1.8.21->geopandas>=0.12->osmnx) (23.2.0)\n",
      "Requirement already satisfied: click~=8.0 in /Users/Owner1/opt/anaconda3/envs/myenv/lib/python3.12/site-packages (from fiona>=1.8.21->geopandas>=0.12->osmnx) (8.1.7)\n",
      "Requirement already satisfied: click-plugins>=1.0 in /Users/Owner1/opt/anaconda3/envs/myenv/lib/python3.12/site-packages (from fiona>=1.8.21->geopandas>=0.12->osmnx) (1.1.1)\n",
      "Requirement already satisfied: cligj>=0.5 in /Users/Owner1/opt/anaconda3/envs/myenv/lib/python3.12/site-packages (from fiona>=1.8.21->geopandas>=0.12->osmnx) (0.7.2)\n",
      "Requirement already satisfied: six in /Users/Owner1/opt/anaconda3/envs/myenv/lib/python3.12/site-packages (from fiona>=1.8.21->geopandas>=0.12->osmnx) (1.16.0)\n",
      "Requirement already satisfied: setuptools in /Users/Owner1/opt/anaconda3/envs/myenv/lib/python3.12/site-packages (from fiona>=1.8.21->geopandas>=0.12->osmnx) (68.2.2)\n",
      "Downloading osmnx-1.9.1-py3-none-any.whl (104 kB)\n",
      "\u001b[2K   \u001b[90m━━━━━━━━━━━━━━━━━━━━━━━━━━━━━━━━━━━━━━━━\u001b[0m \u001b[32m104.3/104.3 kB\u001b[0m \u001b[31m4.8 MB/s\u001b[0m eta \u001b[36m0:00:00\u001b[0m\n",
      "\u001b[?25hInstalling collected packages: osmnx\n",
      "Successfully installed osmnx-1.9.1\n"
     ]
    }
   ],
   "source": [
    "!pip install osmnx\n"
   ]
  },
  {
   "cell_type": "code",
   "execution_count": 6,
   "metadata": {},
   "outputs": [
    {
     "ename": "AttributeError",
     "evalue": "module 'osmnx' has no attribute 'footprints'",
     "output_type": "error",
     "traceback": [
      "\u001b[0;31m---------------------------------------------------------------------------\u001b[0m",
      "\u001b[0;31mAttributeError\u001b[0m                            Traceback (most recent call last)",
      "Cell \u001b[0;32mIn[6], line 10\u001b[0m\n\u001b[1;32m      7\u001b[0m bbox \u001b[38;5;241m=\u001b[39m Polygon([(west, north), (east, north), (east, south), (west, south)])\n\u001b[1;32m      9\u001b[0m \u001b[38;5;66;03m# Download building footprints using OSMnx within the bounding box\u001b[39;00m\n\u001b[0;32m---> 10\u001b[0m buildings \u001b[38;5;241m=\u001b[39m \u001b[43mox\u001b[49m\u001b[38;5;241;43m.\u001b[39;49m\u001b[43mfootprints\u001b[49m\u001b[38;5;241m.\u001b[39mfootprints_from_polygon(bbox, footprint_type\u001b[38;5;241m=\u001b[39m\u001b[38;5;124m'\u001b[39m\u001b[38;5;124mbuilding\u001b[39m\u001b[38;5;124m'\u001b[39m)\n\u001b[1;32m     12\u001b[0m \u001b[38;5;66;03m# Save the building footprints to a GeoJSON file\u001b[39;00m\n\u001b[1;32m     13\u001b[0m buildings\u001b[38;5;241m.\u001b[39mto_file(\u001b[38;5;124m\"\u001b[39m\u001b[38;5;124mbuilding_footprints.geojson\u001b[39m\u001b[38;5;124m\"\u001b[39m, driver\u001b[38;5;241m=\u001b[39m\u001b[38;5;124m\"\u001b[39m\u001b[38;5;124mGeoJSON\u001b[39m\u001b[38;5;124m\"\u001b[39m)\n",
      "\u001b[0;31mAttributeError\u001b[0m: module 'osmnx' has no attribute 'footprints'"
     ]
    }
   ],
   "source": [
    "import osmnx as ox\n",
    "import geopandas as gpd\n",
    "from shapely.geometry import Polygon\n",
    "\n",
    "# Define the bounding box coordinates for your desired area (e.g., Atlanta)\n",
    "north, south, east, west = 33.887, 33.647, -84.289, -84.551\n",
    "bbox = Polygon([(west, north), (east, north), (east, south), (west, south)])\n",
    "\n",
    "# Download building footprints using OSMnx within the bounding box\n",
    "buildings = ox.footprints.footprints_from_polygon(bbox, footprint_type='building')\n",
    "\n",
    "# Save the building footprints to a GeoJSON file\n",
    "buildings.to_file(\"building_footprints.geojson\", driver=\"GeoJSON\")\n"
   ]
  },
  {
   "cell_type": "code",
   "execution_count": 9,
   "metadata": {},
   "outputs": [
    {
     "name": "stderr",
     "output_type": "stream",
     "text": [
      "/var/folders/8r/ff0rscpx4nqdrybs1lktf4yh0000gp/T/ipykernel_55167/1928454927.py:10: FutureWarning: The `geometries` module and `geometries_from_X` functions have been renamed the `features` module and `features_from_X` functions. Use these instead. The `geometries` module and function names are deprecated and will be removed in the v2.0.0 release.\n",
      "  buildings = ox.geometries_from_polygon(bbox, tags={'building': True})\n",
      "/Users/Owner1/opt/anaconda3/envs/myenv/lib/python3.12/site-packages/geopandas/io/file.py:633: UserWarning: You are attempting to write an empty DataFrame to file. For some drivers, this operation may fail.\n",
      "  _to_file_fiona(df, filename, driver, schema, crs, mode, **kwargs)\n"
     ]
    }
   ],
   "source": [
    "import osmnx as ox\n",
    "import geopandas as gpd\n",
    "from shapely.geometry import Polygon, MultiPolygon\n",
    "\n",
    "# Define the bounding box coordinates for your desired area (e.g., Atlanta)\n",
    "north, south, east, west = 33.887, 33.647, -84.289, -84.551\n",
    "bbox = Polygon([(west, north), (east, north), (east, south), (west, south)])\n",
    "\n",
    "# Download building footprints using OSMnx within the bounding box\n",
    "buildings = ox.geometries_from_polygon(bbox, tags={'building': True})\n",
    "\n",
    "# Ensure the building footprints are in MultiPolygon format for GeoDataFrame creation\n",
    "multi_polygons = [geom for geom in buildings if isinstance(geom, MultiPolygon)]\n",
    "footprints_gdf = gpd.GeoDataFrame(geometry=multi_polygons)\n",
    "\n",
    "# Save the building footprints to a GeoJSON file\n",
    "footprints_gdf.to_file(\"building_footprints.geojson\", driver=\"GeoJSON\")\n",
    "\n",
    "\n"
   ]
  },
  {
   "cell_type": "code",
   "execution_count": 10,
   "metadata": {},
   "outputs": [
    {
     "name": "stderr",
     "output_type": "stream",
     "text": [
      "/var/folders/8r/ff0rscpx4nqdrybs1lktf4yh0000gp/T/ipykernel_55167/1789833329.py:10: FutureWarning: The `geometries` module and `geometries_from_X` functions have been renamed the `features` module and `features_from_X` functions. Use these instead. The `geometries` module and function names are deprecated and will be removed in the v2.0.0 release.\n",
      "  response = ox.geometries_from_polygon(bbox, tags={'building': True})\n"
     ]
    },
    {
     "ename": "KeyError",
     "evalue": "'features'",
     "output_type": "error",
     "traceback": [
      "\u001b[0;31m---------------------------------------------------------------------------\u001b[0m",
      "\u001b[0;31mKeyError\u001b[0m                                  Traceback (most recent call last)",
      "File \u001b[0;32m~/opt/anaconda3/envs/myenv/lib/python3.12/site-packages/pandas/core/indexes/base.py:3802\u001b[0m, in \u001b[0;36mIndex.get_loc\u001b[0;34m(self, key)\u001b[0m\n\u001b[1;32m   3801\u001b[0m \u001b[38;5;28;01mtry\u001b[39;00m:\n\u001b[0;32m-> 3802\u001b[0m     \u001b[38;5;28;01mreturn\u001b[39;00m \u001b[38;5;28;43mself\u001b[39;49m\u001b[38;5;241;43m.\u001b[39;49m\u001b[43m_engine\u001b[49m\u001b[38;5;241;43m.\u001b[39;49m\u001b[43mget_loc\u001b[49m\u001b[43m(\u001b[49m\u001b[43mcasted_key\u001b[49m\u001b[43m)\u001b[49m\n\u001b[1;32m   3803\u001b[0m \u001b[38;5;28;01mexcept\u001b[39;00m \u001b[38;5;167;01mKeyError\u001b[39;00m \u001b[38;5;28;01mas\u001b[39;00m err:\n",
      "File \u001b[0;32mindex.pyx:153\u001b[0m, in \u001b[0;36mpandas._libs.index.IndexEngine.get_loc\u001b[0;34m()\u001b[0m\n",
      "File \u001b[0;32mindex.pyx:182\u001b[0m, in \u001b[0;36mpandas._libs.index.IndexEngine.get_loc\u001b[0;34m()\u001b[0m\n",
      "File \u001b[0;32mpandas/_libs/hashtable_class_helper.pxi:7081\u001b[0m, in \u001b[0;36mpandas._libs.hashtable.PyObjectHashTable.get_item\u001b[0;34m()\u001b[0m\n",
      "File \u001b[0;32mpandas/_libs/hashtable_class_helper.pxi:7089\u001b[0m, in \u001b[0;36mpandas._libs.hashtable.PyObjectHashTable.get_item\u001b[0;34m()\u001b[0m\n",
      "\u001b[0;31mKeyError\u001b[0m: 'features'",
      "\nThe above exception was the direct cause of the following exception:\n",
      "\u001b[0;31mKeyError\u001b[0m                                  Traceback (most recent call last)",
      "Cell \u001b[0;32mIn[10], line 13\u001b[0m\n\u001b[1;32m     10\u001b[0m response \u001b[38;5;241m=\u001b[39m ox\u001b[38;5;241m.\u001b[39mgeometries_from_polygon(bbox, tags\u001b[38;5;241m=\u001b[39m{\u001b[38;5;124m'\u001b[39m\u001b[38;5;124mbuilding\u001b[39m\u001b[38;5;124m'\u001b[39m: \u001b[38;5;28;01mTrue\u001b[39;00m})\n\u001b[1;32m     12\u001b[0m \u001b[38;5;66;03m# Extract MultiPolygon building footprints from the response\u001b[39;00m\n\u001b[0;32m---> 13\u001b[0m multi_polygons \u001b[38;5;241m=\u001b[39m [feature[\u001b[38;5;124m\"\u001b[39m\u001b[38;5;124mgeometry\u001b[39m\u001b[38;5;124m\"\u001b[39m] \u001b[38;5;28;01mfor\u001b[39;00m feature \u001b[38;5;129;01min\u001b[39;00m \u001b[43mresponse\u001b[49m\u001b[43m[\u001b[49m\u001b[38;5;124;43m\"\u001b[39;49m\u001b[38;5;124;43mfeatures\u001b[39;49m\u001b[38;5;124;43m\"\u001b[39;49m\u001b[43m]\u001b[49m \u001b[38;5;28;01mif\u001b[39;00m feature[\u001b[38;5;124m\"\u001b[39m\u001b[38;5;124mgeometry\u001b[39m\u001b[38;5;124m\"\u001b[39m][\u001b[38;5;124m\"\u001b[39m\u001b[38;5;124mtype\u001b[39m\u001b[38;5;124m\"\u001b[39m] \u001b[38;5;241m==\u001b[39m \u001b[38;5;124m\"\u001b[39m\u001b[38;5;124mMultiPolygon\u001b[39m\u001b[38;5;124m\"\u001b[39m]\n\u001b[1;32m     15\u001b[0m \u001b[38;5;66;03m# Create a GeoDataFrame with MultiPolygon building footprints\u001b[39;00m\n\u001b[1;32m     16\u001b[0m footprints_gdf \u001b[38;5;241m=\u001b[39m gpd\u001b[38;5;241m.\u001b[39mGeoDataFrame(geometry\u001b[38;5;241m=\u001b[39mmulti_polygons)\n",
      "File \u001b[0;32m~/opt/anaconda3/envs/myenv/lib/python3.12/site-packages/geopandas/geodataframe.py:1456\u001b[0m, in \u001b[0;36mGeoDataFrame.__getitem__\u001b[0;34m(self, key)\u001b[0m\n\u001b[1;32m   1450\u001b[0m \u001b[38;5;28;01mdef\u001b[39;00m \u001b[38;5;21m__getitem__\u001b[39m(\u001b[38;5;28mself\u001b[39m, key):\n\u001b[1;32m   1451\u001b[0m \u001b[38;5;250m    \u001b[39m\u001b[38;5;124;03m\"\"\"\u001b[39;00m\n\u001b[1;32m   1452\u001b[0m \u001b[38;5;124;03m    If the result is a column containing only 'geometry', return a\u001b[39;00m\n\u001b[1;32m   1453\u001b[0m \u001b[38;5;124;03m    GeoSeries. If it's a DataFrame with any columns of GeometryDtype,\u001b[39;00m\n\u001b[1;32m   1454\u001b[0m \u001b[38;5;124;03m    return a GeoDataFrame.\u001b[39;00m\n\u001b[1;32m   1455\u001b[0m \u001b[38;5;124;03m    \"\"\"\u001b[39;00m\n\u001b[0;32m-> 1456\u001b[0m     result \u001b[38;5;241m=\u001b[39m \u001b[38;5;28;43msuper\u001b[39;49m\u001b[43m(\u001b[49m\u001b[43m)\u001b[49m\u001b[38;5;241;43m.\u001b[39;49m\u001b[38;5;21;43m__getitem__\u001b[39;49m\u001b[43m(\u001b[49m\u001b[43mkey\u001b[49m\u001b[43m)\u001b[49m\n\u001b[1;32m   1457\u001b[0m     \u001b[38;5;66;03m# Custom logic to avoid waiting for pandas GH51895\u001b[39;00m\n\u001b[1;32m   1458\u001b[0m     \u001b[38;5;66;03m# result is not geometry dtype for multi-indexes\u001b[39;00m\n\u001b[1;32m   1459\u001b[0m     \u001b[38;5;28;01mif\u001b[39;00m (\n\u001b[1;32m   1460\u001b[0m         pd\u001b[38;5;241m.\u001b[39mapi\u001b[38;5;241m.\u001b[39mtypes\u001b[38;5;241m.\u001b[39mis_scalar(key)\n\u001b[1;32m   1461\u001b[0m         \u001b[38;5;129;01mand\u001b[39;00m key \u001b[38;5;241m==\u001b[39m \u001b[38;5;124m\"\u001b[39m\u001b[38;5;124m\"\u001b[39m\n\u001b[0;32m   (...)\u001b[0m\n\u001b[1;32m   1464\u001b[0m         \u001b[38;5;129;01mand\u001b[39;00m \u001b[38;5;129;01mnot\u001b[39;00m is_geometry_type(result)\n\u001b[1;32m   1465\u001b[0m     ):\n",
      "File \u001b[0;32m~/opt/anaconda3/envs/myenv/lib/python3.12/site-packages/pandas/core/frame.py:4090\u001b[0m, in \u001b[0;36mDataFrame.__getitem__\u001b[0;34m(self, key)\u001b[0m\n\u001b[1;32m   4088\u001b[0m \u001b[38;5;28;01mif\u001b[39;00m \u001b[38;5;28mself\u001b[39m\u001b[38;5;241m.\u001b[39mcolumns\u001b[38;5;241m.\u001b[39mnlevels \u001b[38;5;241m>\u001b[39m \u001b[38;5;241m1\u001b[39m:\n\u001b[1;32m   4089\u001b[0m     \u001b[38;5;28;01mreturn\u001b[39;00m \u001b[38;5;28mself\u001b[39m\u001b[38;5;241m.\u001b[39m_getitem_multilevel(key)\n\u001b[0;32m-> 4090\u001b[0m indexer \u001b[38;5;241m=\u001b[39m \u001b[38;5;28;43mself\u001b[39;49m\u001b[38;5;241;43m.\u001b[39;49m\u001b[43mcolumns\u001b[49m\u001b[38;5;241;43m.\u001b[39;49m\u001b[43mget_loc\u001b[49m\u001b[43m(\u001b[49m\u001b[43mkey\u001b[49m\u001b[43m)\u001b[49m\n\u001b[1;32m   4091\u001b[0m \u001b[38;5;28;01mif\u001b[39;00m is_integer(indexer):\n\u001b[1;32m   4092\u001b[0m     indexer \u001b[38;5;241m=\u001b[39m [indexer]\n",
      "File \u001b[0;32m~/opt/anaconda3/envs/myenv/lib/python3.12/site-packages/pandas/core/indexes/base.py:3809\u001b[0m, in \u001b[0;36mIndex.get_loc\u001b[0;34m(self, key)\u001b[0m\n\u001b[1;32m   3804\u001b[0m     \u001b[38;5;28;01mif\u001b[39;00m \u001b[38;5;28misinstance\u001b[39m(casted_key, \u001b[38;5;28mslice\u001b[39m) \u001b[38;5;129;01mor\u001b[39;00m (\n\u001b[1;32m   3805\u001b[0m         \u001b[38;5;28misinstance\u001b[39m(casted_key, abc\u001b[38;5;241m.\u001b[39mIterable)\n\u001b[1;32m   3806\u001b[0m         \u001b[38;5;129;01mand\u001b[39;00m \u001b[38;5;28many\u001b[39m(\u001b[38;5;28misinstance\u001b[39m(x, \u001b[38;5;28mslice\u001b[39m) \u001b[38;5;28;01mfor\u001b[39;00m x \u001b[38;5;129;01min\u001b[39;00m casted_key)\n\u001b[1;32m   3807\u001b[0m     ):\n\u001b[1;32m   3808\u001b[0m         \u001b[38;5;28;01mraise\u001b[39;00m InvalidIndexError(key)\n\u001b[0;32m-> 3809\u001b[0m     \u001b[38;5;28;01mraise\u001b[39;00m \u001b[38;5;167;01mKeyError\u001b[39;00m(key) \u001b[38;5;28;01mfrom\u001b[39;00m \u001b[38;5;21;01merr\u001b[39;00m\n\u001b[1;32m   3810\u001b[0m \u001b[38;5;28;01mexcept\u001b[39;00m \u001b[38;5;167;01mTypeError\u001b[39;00m:\n\u001b[1;32m   3811\u001b[0m     \u001b[38;5;66;03m# If we have a listlike key, _check_indexing_error will raise\u001b[39;00m\n\u001b[1;32m   3812\u001b[0m     \u001b[38;5;66;03m#  InvalidIndexError. Otherwise we fall through and re-raise\u001b[39;00m\n\u001b[1;32m   3813\u001b[0m     \u001b[38;5;66;03m#  the TypeError.\u001b[39;00m\n\u001b[1;32m   3814\u001b[0m     \u001b[38;5;28mself\u001b[39m\u001b[38;5;241m.\u001b[39m_check_indexing_error(key)\n",
      "\u001b[0;31mKeyError\u001b[0m: 'features'"
     ]
    }
   ],
   "source": [
    "import osmnx as ox\n",
    "import geopandas as gpd\n",
    "from shapely.geometry import Polygon, MultiPolygon\n",
    "\n",
    "# Define the bounding box coordinates for your desired area (e.g., Atlanta)\n",
    "north, south, east, west = 33.887, 33.647, -84.289, -84.551\n",
    "bbox = Polygon([(west, north), (east, north), (east, south), (west, south)])\n",
    "\n",
    "# Download building footprints using OSMnx within the bounding box\n",
    "response = ox.geometries_from_polygon(bbox, tags={'building': True})\n",
    "\n",
    "# Extract MultiPolygon building footprints from the response\n",
    "multi_polygons = [feature[\"geometry\"] for feature in response[\"features\"] if feature[\"geometry\"][\"type\"] == \"MultiPolygon\"]\n",
    "\n",
    "# Create a GeoDataFrame with MultiPolygon building footprints\n",
    "footprints_gdf = gpd.GeoDataFrame(geometry=multi_polygons)\n",
    "\n",
    "# Check if the GeoDataFrame is not empty before saving\n",
    "if not footprints_gdf.empty:\n",
    "    # Save the building footprints to a GeoJSON file\n",
    "    footprints_gdf.to_file(\"building_footprints.geojson\", driver=\"GeoJSON\")\n",
    "else:\n",
    "    print(\"No building footprints found in the specified area.\")\n"
   ]
  }
 ],
 "metadata": {
  "kernelspec": {
   "display_name": "myenv",
   "language": "python",
   "name": "python3"
  },
  "language_info": {
   "codemirror_mode": {
    "name": "ipython",
    "version": 3
   },
   "file_extension": ".py",
   "mimetype": "text/x-python",
   "name": "python",
   "nbconvert_exporter": "python",
   "pygments_lexer": "ipython3",
   "version": "3.12.1"
  }
 },
 "nbformat": 4,
 "nbformat_minor": 2
}

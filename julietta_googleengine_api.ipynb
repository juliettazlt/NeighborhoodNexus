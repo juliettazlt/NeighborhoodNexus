{
 "cells": [
  {
   "cell_type": "code",
   "execution_count": 12,
   "id": "7f6f8c2a",
   "metadata": {
    "scrolled": true
   },
   "outputs": [
    {
     "data": {
      "text/html": [
       "\n",
       "            <style>\n",
       "                .geemap-dark {\n",
       "                    --jp-widgets-color: white;\n",
       "                    --jp-widgets-label-color: white;\n",
       "                    --jp-ui-font-color1: white;\n",
       "                    --jp-layout-color2: #454545;\n",
       "                    background-color: #383838;\n",
       "                }\n",
       "                    \n",
       "                .geemap-dark .jupyter-button {\n",
       "                    --jp-layout-color3: #383838;\n",
       "                }\n",
       "                \n",
       "                .geemap-colab {\n",
       "                    background-color: var(--colab-primary-surface-color, white);\n",
       "                }\n",
       "                    \n",
       "                .geemap-colab .jupyter-button {\n",
       "                    --jp-layout-color3: var(--colab-primary-surface-color, white);\n",
       "                }\n",
       "            </style>\n",
       "            "
      ],
      "text/plain": [
       "<IPython.core.display.HTML object>"
      ]
     },
     "metadata": {},
     "output_type": "display_data"
    },
    {
     "name": "stdout",
     "output_type": "stream",
     "text": [
      "Requirement already satisfied: earthengine-api in /Users/Owner1/opt/anaconda3/envs/myenv/lib/python3.12/site-packages (0.1.386)\n",
      "Requirement already satisfied: google-cloud-storage in /Users/Owner1/opt/anaconda3/envs/myenv/lib/python3.12/site-packages (from earthengine-api) (2.14.0)\n",
      "Requirement already satisfied: google-api-python-client>=1.12.1 in /Users/Owner1/opt/anaconda3/envs/myenv/lib/python3.12/site-packages (from earthengine-api) (2.115.0)\n",
      "Requirement already satisfied: google-auth>=1.4.1 in /Users/Owner1/opt/anaconda3/envs/myenv/lib/python3.12/site-packages (from earthengine-api) (2.27.0)\n",
      "Requirement already satisfied: google-auth-httplib2>=0.0.3 in /Users/Owner1/opt/anaconda3/envs/myenv/lib/python3.12/site-packages (from earthengine-api) (0.2.0)\n",
      "Requirement already satisfied: httplib2<1dev,>=0.9.2 in /Users/Owner1/opt/anaconda3/envs/myenv/lib/python3.12/site-packages (from earthengine-api) (0.22.0)\n",
      "Requirement already satisfied: requests in /Users/Owner1/opt/anaconda3/envs/myenv/lib/python3.12/site-packages (from earthengine-api) (2.31.0)\n",
      "Requirement already satisfied: google-api-core!=2.0.*,!=2.1.*,!=2.2.*,!=2.3.0,<3.0.0.dev0,>=1.31.5 in /Users/Owner1/opt/anaconda3/envs/myenv/lib/python3.12/site-packages (from google-api-python-client>=1.12.1->earthengine-api) (2.15.0)\n",
      "Requirement already satisfied: uritemplate<5,>=3.0.1 in /Users/Owner1/opt/anaconda3/envs/myenv/lib/python3.12/site-packages (from google-api-python-client>=1.12.1->earthengine-api) (4.1.1)\n",
      "Requirement already satisfied: cachetools<6.0,>=2.0.0 in /Users/Owner1/opt/anaconda3/envs/myenv/lib/python3.12/site-packages (from google-auth>=1.4.1->earthengine-api) (5.3.2)\n",
      "Requirement already satisfied: pyasn1-modules>=0.2.1 in /Users/Owner1/opt/anaconda3/envs/myenv/lib/python3.12/site-packages (from google-auth>=1.4.1->earthengine-api) (0.3.0)\n",
      "Requirement already satisfied: rsa<5,>=3.1.4 in /Users/Owner1/opt/anaconda3/envs/myenv/lib/python3.12/site-packages (from google-auth>=1.4.1->earthengine-api) (4.9)\n",
      "Requirement already satisfied: pyparsing!=3.0.0,!=3.0.1,!=3.0.2,!=3.0.3,<4,>=2.4.2 in /Users/Owner1/opt/anaconda3/envs/myenv/lib/python3.12/site-packages (from httplib2<1dev,>=0.9.2->earthengine-api) (3.1.1)\n",
      "Requirement already satisfied: google-cloud-core<3.0dev,>=2.3.0 in /Users/Owner1/opt/anaconda3/envs/myenv/lib/python3.12/site-packages (from google-cloud-storage->earthengine-api) (2.4.1)\n",
      "Requirement already satisfied: google-resumable-media>=2.6.0 in /Users/Owner1/opt/anaconda3/envs/myenv/lib/python3.12/site-packages (from google-cloud-storage->earthengine-api) (2.7.0)\n",
      "Requirement already satisfied: google-crc32c<2.0dev,>=1.0 in /Users/Owner1/opt/anaconda3/envs/myenv/lib/python3.12/site-packages (from google-cloud-storage->earthengine-api) (1.5.0)\n",
      "Requirement already satisfied: charset-normalizer<4,>=2 in /Users/Owner1/opt/anaconda3/envs/myenv/lib/python3.12/site-packages (from requests->earthengine-api) (3.3.2)\n",
      "Requirement already satisfied: idna<4,>=2.5 in /Users/Owner1/opt/anaconda3/envs/myenv/lib/python3.12/site-packages (from requests->earthengine-api) (3.6)\n",
      "Requirement already satisfied: urllib3<3,>=1.21.1 in /Users/Owner1/opt/anaconda3/envs/myenv/lib/python3.12/site-packages (from requests->earthengine-api) (2.1.0)\n",
      "Requirement already satisfied: certifi>=2017.4.17 in /Users/Owner1/opt/anaconda3/envs/myenv/lib/python3.12/site-packages (from requests->earthengine-api) (2023.11.17)\n",
      "Requirement already satisfied: googleapis-common-protos<2.0.dev0,>=1.56.2 in /Users/Owner1/opt/anaconda3/envs/myenv/lib/python3.12/site-packages (from google-api-core!=2.0.*,!=2.1.*,!=2.2.*,!=2.3.0,<3.0.0.dev0,>=1.31.5->google-api-python-client>=1.12.1->earthengine-api) (1.62.0)\n",
      "Requirement already satisfied: protobuf!=3.20.0,!=3.20.1,!=4.21.0,!=4.21.1,!=4.21.2,!=4.21.3,!=4.21.4,!=4.21.5,<5.0.0.dev0,>=3.19.5 in /Users/Owner1/opt/anaconda3/envs/myenv/lib/python3.12/site-packages (from google-api-core!=2.0.*,!=2.1.*,!=2.2.*,!=2.3.0,<3.0.0.dev0,>=1.31.5->google-api-python-client>=1.12.1->earthengine-api) (4.25.2)\n",
      "Requirement already satisfied: pyasn1<0.6.0,>=0.4.6 in /Users/Owner1/opt/anaconda3/envs/myenv/lib/python3.12/site-packages (from pyasn1-modules>=0.2.1->google-auth>=1.4.1->earthengine-api) (0.5.1)\n"
     ]
    }
   ],
   "source": [
    "# google earth engine api\n",
    "!pip install earthengine-api"
   ]
  },
  {
   "cell_type": "code",
   "execution_count": 13,
   "id": "3b2dcc6c",
   "metadata": {
    "scrolled": false
   },
   "outputs": [
    {
     "data": {
      "text/html": [
       "\n",
       "            <style>\n",
       "                .geemap-dark {\n",
       "                    --jp-widgets-color: white;\n",
       "                    --jp-widgets-label-color: white;\n",
       "                    --jp-ui-font-color1: white;\n",
       "                    --jp-layout-color2: #454545;\n",
       "                    background-color: #383838;\n",
       "                }\n",
       "                    \n",
       "                .geemap-dark .jupyter-button {\n",
       "                    --jp-layout-color3: #383838;\n",
       "                }\n",
       "                \n",
       "                .geemap-colab {\n",
       "                    background-color: var(--colab-primary-surface-color, white);\n",
       "                }\n",
       "                    \n",
       "                .geemap-colab .jupyter-button {\n",
       "                    --jp-layout-color3: var(--colab-primary-surface-color, white);\n",
       "                }\n",
       "            </style>\n",
       "            "
      ],
      "text/plain": [
       "<IPython.core.display.HTML object>"
      ]
     },
     "metadata": {},
     "output_type": "display_data"
    },
    {
     "data": {
      "text/plain": [
       "True"
      ]
     },
     "execution_count": 13,
     "metadata": {},
     "output_type": "execute_result"
    }
   ],
   "source": [
    "import ee\n",
    "\n",
    "# Authenticate using your Google account\n",
    "ee.Authenticate()\n"
   ]
  },
  {
   "cell_type": "code",
   "execution_count": 14,
   "id": "e5a146cb",
   "metadata": {},
   "outputs": [
    {
     "data": {
      "text/html": [
       "\n",
       "            <style>\n",
       "                .geemap-dark {\n",
       "                    --jp-widgets-color: white;\n",
       "                    --jp-widgets-label-color: white;\n",
       "                    --jp-ui-font-color1: white;\n",
       "                    --jp-layout-color2: #454545;\n",
       "                    background-color: #383838;\n",
       "                }\n",
       "                    \n",
       "                .geemap-dark .jupyter-button {\n",
       "                    --jp-layout-color3: #383838;\n",
       "                }\n",
       "                \n",
       "                .geemap-colab {\n",
       "                    background-color: var(--colab-primary-surface-color, white);\n",
       "                }\n",
       "                    \n",
       "                .geemap-colab .jupyter-button {\n",
       "                    --jp-layout-color3: var(--colab-primary-surface-color, white);\n",
       "                }\n",
       "            </style>\n",
       "            "
      ],
      "text/plain": [
       "<IPython.core.display.HTML object>"
      ]
     },
     "metadata": {},
     "output_type": "display_data"
    }
   ],
   "source": [
    "ee.Initialize()"
   ]
  },
  {
   "cell_type": "code",
   "execution_count": 15,
   "id": "f83b9349",
   "metadata": {
    "scrolled": true
   },
   "outputs": [
    {
     "data": {
      "text/html": [
       "\n",
       "            <style>\n",
       "                .geemap-dark {\n",
       "                    --jp-widgets-color: white;\n",
       "                    --jp-widgets-label-color: white;\n",
       "                    --jp-ui-font-color1: white;\n",
       "                    --jp-layout-color2: #454545;\n",
       "                    background-color: #383838;\n",
       "                }\n",
       "                    \n",
       "                .geemap-dark .jupyter-button {\n",
       "                    --jp-layout-color3: #383838;\n",
       "                }\n",
       "                \n",
       "                .geemap-colab {\n",
       "                    background-color: var(--colab-primary-surface-color, white);\n",
       "                }\n",
       "                    \n",
       "                .geemap-colab .jupyter-button {\n",
       "                    --jp-layout-color3: var(--colab-primary-surface-color, white);\n",
       "                }\n",
       "            </style>\n",
       "            "
      ],
      "text/plain": [
       "<IPython.core.display.HTML object>"
      ]
     },
     "metadata": {},
     "output_type": "display_data"
    },
    {
     "name": "stdout",
     "output_type": "stream",
     "text": [
      "Requirement already satisfied: folium in /Users/Owner1/opt/anaconda3/envs/myenv/lib/python3.12/site-packages (0.15.1)\n",
      "Requirement already satisfied: branca>=0.6.0 in /Users/Owner1/opt/anaconda3/envs/myenv/lib/python3.12/site-packages (from folium) (0.7.0)\n",
      "Requirement already satisfied: jinja2>=2.9 in /Users/Owner1/opt/anaconda3/envs/myenv/lib/python3.12/site-packages (from folium) (3.1.3)\n",
      "Requirement already satisfied: numpy in /Users/Owner1/opt/anaconda3/envs/myenv/lib/python3.12/site-packages (from folium) (1.26.3)\n",
      "Requirement already satisfied: requests in /Users/Owner1/opt/anaconda3/envs/myenv/lib/python3.12/site-packages (from folium) (2.31.0)\n",
      "Requirement already satisfied: xyzservices in /Users/Owner1/opt/anaconda3/envs/myenv/lib/python3.12/site-packages (from folium) (2023.10.1)\n",
      "Requirement already satisfied: MarkupSafe>=2.0 in /Users/Owner1/opt/anaconda3/envs/myenv/lib/python3.12/site-packages (from jinja2>=2.9->folium) (2.1.4)\n",
      "Requirement already satisfied: charset-normalizer<4,>=2 in /Users/Owner1/opt/anaconda3/envs/myenv/lib/python3.12/site-packages (from requests->folium) (3.3.2)\n",
      "Requirement already satisfied: idna<4,>=2.5 in /Users/Owner1/opt/anaconda3/envs/myenv/lib/python3.12/site-packages (from requests->folium) (3.6)\n",
      "Requirement already satisfied: urllib3<3,>=1.21.1 in /Users/Owner1/opt/anaconda3/envs/myenv/lib/python3.12/site-packages (from requests->folium) (2.1.0)\n",
      "Requirement already satisfied: certifi>=2017.4.17 in /Users/Owner1/opt/anaconda3/envs/myenv/lib/python3.12/site-packages (from requests->folium) (2023.11.17)\n",
      "Requirement already satisfied: geemap in /Users/Owner1/opt/anaconda3/envs/myenv/lib/python3.12/site-packages (0.30.4)\n",
      "Requirement already satisfied: bqplot in /Users/Owner1/opt/anaconda3/envs/myenv/lib/python3.12/site-packages (from geemap) (0.12.42)\n",
      "Requirement already satisfied: colour in /Users/Owner1/opt/anaconda3/envs/myenv/lib/python3.12/site-packages (from geemap) (0.1.5)\n",
      "Requirement already satisfied: earthengine-api>=0.1.347 in /Users/Owner1/opt/anaconda3/envs/myenv/lib/python3.12/site-packages (from geemap) (0.1.386)\n",
      "Requirement already satisfied: eerepr>=0.0.4 in /Users/Owner1/opt/anaconda3/envs/myenv/lib/python3.12/site-packages (from geemap) (0.0.4)\n",
      "Requirement already satisfied: folium>=0.13.0 in /Users/Owner1/opt/anaconda3/envs/myenv/lib/python3.12/site-packages (from geemap) (0.15.1)\n",
      "Requirement already satisfied: geocoder in /Users/Owner1/opt/anaconda3/envs/myenv/lib/python3.12/site-packages (from geemap) (1.38.1)\n",
      "Requirement already satisfied: ipyevents in /Users/Owner1/opt/anaconda3/envs/myenv/lib/python3.12/site-packages (from geemap) (2.0.2)\n",
      "Requirement already satisfied: ipyfilechooser>=0.6.0 in /Users/Owner1/opt/anaconda3/envs/myenv/lib/python3.12/site-packages (from geemap) (0.6.0)\n",
      "Requirement already satisfied: ipyleaflet>=0.17.0 in /Users/Owner1/opt/anaconda3/envs/myenv/lib/python3.12/site-packages (from geemap) (0.18.2)\n",
      "Requirement already satisfied: ipytree in /Users/Owner1/opt/anaconda3/envs/myenv/lib/python3.12/site-packages (from geemap) (0.2.2)\n",
      "Requirement already satisfied: matplotlib in /Users/Owner1/opt/anaconda3/envs/myenv/lib/python3.12/site-packages (from geemap) (3.8.2)\n",
      "Requirement already satisfied: numpy in /Users/Owner1/opt/anaconda3/envs/myenv/lib/python3.12/site-packages (from geemap) (1.26.3)\n",
      "Requirement already satisfied: pandas in /Users/Owner1/opt/anaconda3/envs/myenv/lib/python3.12/site-packages (from geemap) (2.2.0)\n",
      "Requirement already satisfied: plotly in /Users/Owner1/opt/anaconda3/envs/myenv/lib/python3.12/site-packages (from geemap) (5.18.0)\n",
      "Requirement already satisfied: pyperclip in /Users/Owner1/opt/anaconda3/envs/myenv/lib/python3.12/site-packages (from geemap) (1.8.2)\n",
      "Requirement already satisfied: pyshp>=2.1.3 in /Users/Owner1/opt/anaconda3/envs/myenv/lib/python3.12/site-packages (from geemap) (2.3.1)\n",
      "Requirement already satisfied: python-box in /Users/Owner1/opt/anaconda3/envs/myenv/lib/python3.12/site-packages (from geemap) (7.1.1)\n",
      "Requirement already satisfied: scooby in /Users/Owner1/opt/anaconda3/envs/myenv/lib/python3.12/site-packages (from geemap) (0.9.2)\n",
      "Requirement already satisfied: google-cloud-storage in /Users/Owner1/opt/anaconda3/envs/myenv/lib/python3.12/site-packages (from earthengine-api>=0.1.347->geemap) (2.14.0)\n",
      "Requirement already satisfied: google-api-python-client>=1.12.1 in /Users/Owner1/opt/anaconda3/envs/myenv/lib/python3.12/site-packages (from earthengine-api>=0.1.347->geemap) (2.115.0)\n",
      "Requirement already satisfied: google-auth>=1.4.1 in /Users/Owner1/opt/anaconda3/envs/myenv/lib/python3.12/site-packages (from earthengine-api>=0.1.347->geemap) (2.27.0)\n",
      "Requirement already satisfied: google-auth-httplib2>=0.0.3 in /Users/Owner1/opt/anaconda3/envs/myenv/lib/python3.12/site-packages (from earthengine-api>=0.1.347->geemap) (0.2.0)\n",
      "Requirement already satisfied: httplib2<1dev,>=0.9.2 in /Users/Owner1/opt/anaconda3/envs/myenv/lib/python3.12/site-packages (from earthengine-api>=0.1.347->geemap) (0.22.0)\n",
      "Requirement already satisfied: requests in /Users/Owner1/opt/anaconda3/envs/myenv/lib/python3.12/site-packages (from earthengine-api>=0.1.347->geemap) (2.31.0)\n",
      "Requirement already satisfied: branca>=0.6.0 in /Users/Owner1/opt/anaconda3/envs/myenv/lib/python3.12/site-packages (from folium>=0.13.0->geemap) (0.7.0)\n",
      "Requirement already satisfied: jinja2>=2.9 in /Users/Owner1/opt/anaconda3/envs/myenv/lib/python3.12/site-packages (from folium>=0.13.0->geemap) (3.1.3)\n",
      "Requirement already satisfied: xyzservices in /Users/Owner1/opt/anaconda3/envs/myenv/lib/python3.12/site-packages (from folium>=0.13.0->geemap) (2023.10.1)\n",
      "Requirement already satisfied: ipywidgets in /Users/Owner1/opt/anaconda3/envs/myenv/lib/python3.12/site-packages (from ipyfilechooser>=0.6.0->geemap) (8.1.1)\n",
      "Requirement already satisfied: traittypes<3,>=0.2.1 in /Users/Owner1/opt/anaconda3/envs/myenv/lib/python3.12/site-packages (from ipyleaflet>=0.17.0->geemap) (0.2.1)\n",
      "Requirement already satisfied: traitlets>=4.3.0 in /Users/Owner1/opt/anaconda3/envs/myenv/lib/python3.12/site-packages (from bqplot->geemap) (5.14.1)\n",
      "Requirement already satisfied: python-dateutil>=2.8.2 in /Users/Owner1/opt/anaconda3/envs/myenv/lib/python3.12/site-packages (from pandas->geemap) (2.8.2)\n",
      "Requirement already satisfied: pytz>=2020.1 in /Users/Owner1/opt/anaconda3/envs/myenv/lib/python3.12/site-packages (from pandas->geemap) (2023.4)\n",
      "Requirement already satisfied: tzdata>=2022.7 in /Users/Owner1/opt/anaconda3/envs/myenv/lib/python3.12/site-packages (from pandas->geemap) (2023.4)\n",
      "Requirement already satisfied: click in /Users/Owner1/opt/anaconda3/envs/myenv/lib/python3.12/site-packages (from geocoder->geemap) (8.1.7)\n",
      "Requirement already satisfied: future in /Users/Owner1/opt/anaconda3/envs/myenv/lib/python3.12/site-packages (from geocoder->geemap) (0.18.3)\n",
      "Requirement already satisfied: ratelim in /Users/Owner1/opt/anaconda3/envs/myenv/lib/python3.12/site-packages (from geocoder->geemap) (0.1.6)\n",
      "Requirement already satisfied: six in /Users/Owner1/opt/anaconda3/envs/myenv/lib/python3.12/site-packages (from geocoder->geemap) (1.16.0)\n",
      "Requirement already satisfied: contourpy>=1.0.1 in /Users/Owner1/opt/anaconda3/envs/myenv/lib/python3.12/site-packages (from matplotlib->geemap) (1.2.0)\n",
      "Requirement already satisfied: cycler>=0.10 in /Users/Owner1/opt/anaconda3/envs/myenv/lib/python3.12/site-packages (from matplotlib->geemap) (0.12.1)\n",
      "Requirement already satisfied: fonttools>=4.22.0 in /Users/Owner1/opt/anaconda3/envs/myenv/lib/python3.12/site-packages (from matplotlib->geemap) (4.47.2)\n",
      "Requirement already satisfied: kiwisolver>=1.3.1 in /Users/Owner1/opt/anaconda3/envs/myenv/lib/python3.12/site-packages (from matplotlib->geemap) (1.4.5)\n",
      "Requirement already satisfied: packaging>=20.0 in /Users/Owner1/opt/anaconda3/envs/myenv/lib/python3.12/site-packages (from matplotlib->geemap) (23.2)\n",
      "Requirement already satisfied: pillow>=8 in /Users/Owner1/opt/anaconda3/envs/myenv/lib/python3.12/site-packages (from matplotlib->geemap) (10.2.0)\n",
      "Requirement already satisfied: pyparsing>=2.3.1 in /Users/Owner1/opt/anaconda3/envs/myenv/lib/python3.12/site-packages (from matplotlib->geemap) (3.1.1)\n",
      "Requirement already satisfied: tenacity>=6.2.0 in /Users/Owner1/opt/anaconda3/envs/myenv/lib/python3.12/site-packages (from plotly->geemap) (8.2.3)\n",
      "Requirement already satisfied: google-api-core!=2.0.*,!=2.1.*,!=2.2.*,!=2.3.0,<3.0.0.dev0,>=1.31.5 in /Users/Owner1/opt/anaconda3/envs/myenv/lib/python3.12/site-packages (from google-api-python-client>=1.12.1->earthengine-api>=0.1.347->geemap) (2.15.0)\n",
      "Requirement already satisfied: uritemplate<5,>=3.0.1 in /Users/Owner1/opt/anaconda3/envs/myenv/lib/python3.12/site-packages (from google-api-python-client>=1.12.1->earthengine-api>=0.1.347->geemap) (4.1.1)\n",
      "Requirement already satisfied: cachetools<6.0,>=2.0.0 in /Users/Owner1/opt/anaconda3/envs/myenv/lib/python3.12/site-packages (from google-auth>=1.4.1->earthengine-api>=0.1.347->geemap) (5.3.2)\n",
      "Requirement already satisfied: pyasn1-modules>=0.2.1 in /Users/Owner1/opt/anaconda3/envs/myenv/lib/python3.12/site-packages (from google-auth>=1.4.1->earthengine-api>=0.1.347->geemap) (0.3.0)\n",
      "Requirement already satisfied: rsa<5,>=3.1.4 in /Users/Owner1/opt/anaconda3/envs/myenv/lib/python3.12/site-packages (from google-auth>=1.4.1->earthengine-api>=0.1.347->geemap) (4.9)\n",
      "Requirement already satisfied: comm>=0.1.3 in /Users/Owner1/opt/anaconda3/envs/myenv/lib/python3.12/site-packages (from ipywidgets->ipyfilechooser>=0.6.0->geemap) (0.2.1)\n",
      "Requirement already satisfied: ipython>=6.1.0 in /Users/Owner1/opt/anaconda3/envs/myenv/lib/python3.12/site-packages (from ipywidgets->ipyfilechooser>=0.6.0->geemap) (8.20.0)\n",
      "Requirement already satisfied: widgetsnbextension~=4.0.9 in /Users/Owner1/opt/anaconda3/envs/myenv/lib/python3.12/site-packages (from ipywidgets->ipyfilechooser>=0.6.0->geemap) (4.0.9)\n",
      "Requirement already satisfied: jupyterlab-widgets~=3.0.9 in /Users/Owner1/opt/anaconda3/envs/myenv/lib/python3.12/site-packages (from ipywidgets->ipyfilechooser>=0.6.0->geemap) (3.0.9)\n",
      "Requirement already satisfied: MarkupSafe>=2.0 in /Users/Owner1/opt/anaconda3/envs/myenv/lib/python3.12/site-packages (from jinja2>=2.9->folium>=0.13.0->geemap) (2.1.4)\n",
      "Requirement already satisfied: google-cloud-core<3.0dev,>=2.3.0 in /Users/Owner1/opt/anaconda3/envs/myenv/lib/python3.12/site-packages (from google-cloud-storage->earthengine-api>=0.1.347->geemap) (2.4.1)\n",
      "Requirement already satisfied: google-resumable-media>=2.6.0 in /Users/Owner1/opt/anaconda3/envs/myenv/lib/python3.12/site-packages (from google-cloud-storage->earthengine-api>=0.1.347->geemap) (2.7.0)\n",
      "Requirement already satisfied: google-crc32c<2.0dev,>=1.0 in /Users/Owner1/opt/anaconda3/envs/myenv/lib/python3.12/site-packages (from google-cloud-storage->earthengine-api>=0.1.347->geemap) (1.5.0)\n",
      "Requirement already satisfied: charset-normalizer<4,>=2 in /Users/Owner1/opt/anaconda3/envs/myenv/lib/python3.12/site-packages (from requests->earthengine-api>=0.1.347->geemap) (3.3.2)\n",
      "Requirement already satisfied: idna<4,>=2.5 in /Users/Owner1/opt/anaconda3/envs/myenv/lib/python3.12/site-packages (from requests->earthengine-api>=0.1.347->geemap) (3.6)\n",
      "Requirement already satisfied: urllib3<3,>=1.21.1 in /Users/Owner1/opt/anaconda3/envs/myenv/lib/python3.12/site-packages (from requests->earthengine-api>=0.1.347->geemap) (2.1.0)\n",
      "Requirement already satisfied: certifi>=2017.4.17 in /Users/Owner1/opt/anaconda3/envs/myenv/lib/python3.12/site-packages (from requests->earthengine-api>=0.1.347->geemap) (2023.11.17)\n",
      "Requirement already satisfied: decorator in /Users/Owner1/opt/anaconda3/envs/myenv/lib/python3.12/site-packages (from ratelim->geocoder->geemap) (5.1.1)\n",
      "Requirement already satisfied: googleapis-common-protos<2.0.dev0,>=1.56.2 in /Users/Owner1/opt/anaconda3/envs/myenv/lib/python3.12/site-packages (from google-api-core!=2.0.*,!=2.1.*,!=2.2.*,!=2.3.0,<3.0.0.dev0,>=1.31.5->google-api-python-client>=1.12.1->earthengine-api>=0.1.347->geemap) (1.62.0)\n",
      "Requirement already satisfied: protobuf!=3.20.0,!=3.20.1,!=4.21.0,!=4.21.1,!=4.21.2,!=4.21.3,!=4.21.4,!=4.21.5,<5.0.0.dev0,>=3.19.5 in /Users/Owner1/opt/anaconda3/envs/myenv/lib/python3.12/site-packages (from google-api-core!=2.0.*,!=2.1.*,!=2.2.*,!=2.3.0,<3.0.0.dev0,>=1.31.5->google-api-python-client>=1.12.1->earthengine-api>=0.1.347->geemap) (4.25.2)\n",
      "Requirement already satisfied: jedi>=0.16 in /Users/Owner1/opt/anaconda3/envs/myenv/lib/python3.12/site-packages (from ipython>=6.1.0->ipywidgets->ipyfilechooser>=0.6.0->geemap) (0.19.1)\n",
      "Requirement already satisfied: matplotlib-inline in /Users/Owner1/opt/anaconda3/envs/myenv/lib/python3.12/site-packages (from ipython>=6.1.0->ipywidgets->ipyfilechooser>=0.6.0->geemap) (0.1.6)\n",
      "Requirement already satisfied: prompt-toolkit<3.1.0,>=3.0.41 in /Users/Owner1/opt/anaconda3/envs/myenv/lib/python3.12/site-packages (from ipython>=6.1.0->ipywidgets->ipyfilechooser>=0.6.0->geemap) (3.0.42)\n",
      "Requirement already satisfied: pygments>=2.4.0 in /Users/Owner1/opt/anaconda3/envs/myenv/lib/python3.12/site-packages (from ipython>=6.1.0->ipywidgets->ipyfilechooser>=0.6.0->geemap) (2.17.2)\n",
      "Requirement already satisfied: stack-data in /Users/Owner1/opt/anaconda3/envs/myenv/lib/python3.12/site-packages (from ipython>=6.1.0->ipywidgets->ipyfilechooser>=0.6.0->geemap) (0.6.2)\n",
      "Requirement already satisfied: pexpect>4.3 in /Users/Owner1/opt/anaconda3/envs/myenv/lib/python3.12/site-packages (from ipython>=6.1.0->ipywidgets->ipyfilechooser>=0.6.0->geemap) (4.9.0)\n",
      "Requirement already satisfied: pyasn1<0.6.0,>=0.4.6 in /Users/Owner1/opt/anaconda3/envs/myenv/lib/python3.12/site-packages (from pyasn1-modules>=0.2.1->google-auth>=1.4.1->earthengine-api>=0.1.347->geemap) (0.5.1)\n",
      "Requirement already satisfied: parso<0.9.0,>=0.8.3 in /Users/Owner1/opt/anaconda3/envs/myenv/lib/python3.12/site-packages (from jedi>=0.16->ipython>=6.1.0->ipywidgets->ipyfilechooser>=0.6.0->geemap) (0.8.3)\n",
      "Requirement already satisfied: ptyprocess>=0.5 in /Users/Owner1/opt/anaconda3/envs/myenv/lib/python3.12/site-packages (from pexpect>4.3->ipython>=6.1.0->ipywidgets->ipyfilechooser>=0.6.0->geemap) (0.7.0)\n",
      "Requirement already satisfied: wcwidth in /Users/Owner1/opt/anaconda3/envs/myenv/lib/python3.12/site-packages (from prompt-toolkit<3.1.0,>=3.0.41->ipython>=6.1.0->ipywidgets->ipyfilechooser>=0.6.0->geemap) (0.2.13)\n",
      "Requirement already satisfied: executing>=1.2.0 in /Users/Owner1/opt/anaconda3/envs/myenv/lib/python3.12/site-packages (from stack-data->ipython>=6.1.0->ipywidgets->ipyfilechooser>=0.6.0->geemap) (2.0.1)\n",
      "Requirement already satisfied: asttokens>=2.1.0 in /Users/Owner1/opt/anaconda3/envs/myenv/lib/python3.12/site-packages (from stack-data->ipython>=6.1.0->ipywidgets->ipyfilechooser>=0.6.0->geemap) (2.4.1)\n",
      "Requirement already satisfied: pure-eval in /Users/Owner1/opt/anaconda3/envs/myenv/lib/python3.12/site-packages (from stack-data->ipython>=6.1.0->ipywidgets->ipyfilechooser>=0.6.0->geemap) (0.2.2)\n"
     ]
    }
   ],
   "source": [
    "!pip install folium\n",
    "!pip install geemap\n",
    "\n",
    "import ee\n",
    "import folium\n",
    "import geemap"
   ]
  },
  {
   "cell_type": "code",
   "execution_count": 16,
   "id": "bf61262a",
   "metadata": {},
   "outputs": [
    {
     "data": {
      "text/html": [
       "\n",
       "            <style>\n",
       "                .geemap-dark {\n",
       "                    --jp-widgets-color: white;\n",
       "                    --jp-widgets-label-color: white;\n",
       "                    --jp-ui-font-color1: white;\n",
       "                    --jp-layout-color2: #454545;\n",
       "                    background-color: #383838;\n",
       "                }\n",
       "                    \n",
       "                .geemap-dark .jupyter-button {\n",
       "                    --jp-layout-color3: #383838;\n",
       "                }\n",
       "                \n",
       "                .geemap-colab {\n",
       "                    background-color: var(--colab-primary-surface-color, white);\n",
       "                }\n",
       "                    \n",
       "                .geemap-colab .jupyter-button {\n",
       "                    --jp-layout-color3: var(--colab-primary-surface-color, white);\n",
       "                }\n",
       "            </style>\n",
       "            "
      ],
      "text/plain": [
       "<IPython.core.display.HTML object>"
      ]
     },
     "metadata": {},
     "output_type": "display_data"
    }
   ],
   "source": [
    "import geopandas as gpd\n",
    "import pandas as pd"
   ]
  },
  {
   "cell_type": "code",
   "execution_count": 17,
   "id": "550d0f35",
   "metadata": {},
   "outputs": [
    {
     "data": {
      "text/html": [
       "\n",
       "            <style>\n",
       "                .geemap-dark {\n",
       "                    --jp-widgets-color: white;\n",
       "                    --jp-widgets-label-color: white;\n",
       "                    --jp-ui-font-color1: white;\n",
       "                    --jp-layout-color2: #454545;\n",
       "                    background-color: #383838;\n",
       "                }\n",
       "                    \n",
       "                .geemap-dark .jupyter-button {\n",
       "                    --jp-layout-color3: #383838;\n",
       "                }\n",
       "                \n",
       "                .geemap-colab {\n",
       "                    background-color: var(--colab-primary-surface-color, white);\n",
       "                }\n",
       "                    \n",
       "                .geemap-colab .jupyter-button {\n",
       "                    --jp-layout-color3: var(--colab-primary-surface-color, white);\n",
       "                }\n",
       "            </style>\n",
       "            "
      ],
      "text/plain": [
       "<IPython.core.display.HTML object>"
      ]
     },
     "metadata": {},
     "output_type": "display_data"
    }
   ],
   "source": [
    "#import mbb1\n",
    "\n",
    "csv_file_path = 'data/mbb1.csv'\n",
    "df_outlier = pd.read_csv(csv_file_path)\n",
    "geometry_coordinates_list = df_outlier['geometry_coordinates'].tolist()\n",
    "\n",
    "\n",
    "# get specific coordinate\n",
    "outlier_1 = df_outlier[df_outlier['OBJECTID']=='5638765']\n",
    "polygon_coords = outlier_1['geometry_coordinates']\n"
   ]
  },
  {
   "cell_type": "code",
   "execution_count": 18,
   "id": "fe2de452",
   "metadata": {},
   "outputs": [
    {
     "data": {
      "text/html": [
       "\n",
       "            <style>\n",
       "                .geemap-dark {\n",
       "                    --jp-widgets-color: white;\n",
       "                    --jp-widgets-label-color: white;\n",
       "                    --jp-ui-font-color1: white;\n",
       "                    --jp-layout-color2: #454545;\n",
       "                    background-color: #383838;\n",
       "                }\n",
       "                    \n",
       "                .geemap-dark .jupyter-button {\n",
       "                    --jp-layout-color3: #383838;\n",
       "                }\n",
       "                \n",
       "                .geemap-colab {\n",
       "                    background-color: var(--colab-primary-surface-color, white);\n",
       "                }\n",
       "                    \n",
       "                .geemap-colab .jupyter-button {\n",
       "                    --jp-layout-color3: var(--colab-primary-surface-color, white);\n",
       "                }\n",
       "            </style>\n",
       "            "
      ],
      "text/plain": [
       "<IPython.core.display.HTML object>"
      ]
     },
     "metadata": {},
     "output_type": "display_data"
    },
    {
     "data": {
      "text/plain": [
       "Index(['OBJECTID', 'minx', 'miny', 'maxx', 'maxy', 'center_x', 'center_y',\n",
       "       'height', 'geometry_coordinates'],\n",
       "      dtype='object')"
      ]
     },
     "execution_count": 18,
     "metadata": {},
     "output_type": "execute_result"
    }
   ],
   "source": [
    "df_outlier.columns"
   ]
  },
  {
   "cell_type": "code",
   "execution_count": 19,
   "id": "8014f125",
   "metadata": {},
   "outputs": [
    {
     "data": {
      "text/html": [
       "\n",
       "            <style>\n",
       "                .geemap-dark {\n",
       "                    --jp-widgets-color: white;\n",
       "                    --jp-widgets-label-color: white;\n",
       "                    --jp-ui-font-color1: white;\n",
       "                    --jp-layout-color2: #454545;\n",
       "                    background-color: #383838;\n",
       "                }\n",
       "                    \n",
       "                .geemap-dark .jupyter-button {\n",
       "                    --jp-layout-color3: #383838;\n",
       "                }\n",
       "                \n",
       "                .geemap-colab {\n",
       "                    background-color: var(--colab-primary-surface-color, white);\n",
       "                }\n",
       "                    \n",
       "                .geemap-colab .jupyter-button {\n",
       "                    --jp-layout-color3: var(--colab-primary-surface-color, white);\n",
       "                }\n",
       "            </style>\n",
       "            "
      ],
      "text/plain": [
       "<IPython.core.display.HTML object>"
      ]
     },
     "metadata": {},
     "output_type": "display_data"
    },
    {
     "ename": "ValueError",
     "evalue": "The truth value of a Series is ambiguous. Use a.empty, a.bool(), a.item(), a.any() or a.all().",
     "output_type": "error",
     "traceback": [
      "\u001b[0;31m---------------------------------------------------------------------------\u001b[0m",
      "\u001b[0;31mValueError\u001b[0m                                Traceback (most recent call last)",
      "\u001b[0;32m/var/folders/8r/ff0rscpx4nqdrybs1lktf4yh0000gp/T/ipykernel_32497/3843391804.py\u001b[0m in \u001b[0;36m?\u001b[0;34m()\u001b[0m\n\u001b[1;32m     42\u001b[0m \u001b[0;31m#polygon_coords = [[-84.323, 34.077], [-84.322, 34.077], [-84.321, 34.078], [-84.322, 34.078], [-84.322, 34.077]]\u001b[0m\u001b[0;34m\u001b[0m\u001b[0;34m\u001b[0m\u001b[0m\n\u001b[1;32m     43\u001b[0m \u001b[0;34m\u001b[0m\u001b[0m\n\u001b[1;32m     44\u001b[0m \u001b[0;34m\u001b[0m\u001b[0m\n\u001b[1;32m     45\u001b[0m \u001b[0;31m# Call the function with an example\u001b[0m\u001b[0;34m\u001b[0m\u001b[0;34m\u001b[0m\u001b[0m\n\u001b[0;32m---> 46\u001b[0;31m \u001b[0mdownload_url\u001b[0m \u001b[0;34m=\u001b[0m \u001b[0mget_image_download_url\u001b[0m\u001b[0;34m(\u001b[0m\u001b[0mpolygon_coords\u001b[0m\u001b[0;34m,\u001b[0m \u001b[0;34m'2022-01-01'\u001b[0m\u001b[0;34m,\u001b[0m \u001b[0;34m'2022-2-15'\u001b[0m\u001b[0;34m,\u001b[0m \u001b[0mvis_params\u001b[0m\u001b[0;34m)\u001b[0m\u001b[0;34m\u001b[0m\u001b[0;34m\u001b[0m\u001b[0m\n\u001b[0m\u001b[1;32m     47\u001b[0m \u001b[0mprint\u001b[0m\u001b[0;34m(\u001b[0m\u001b[0mdownload_url\u001b[0m\u001b[0;34m)\u001b[0m\u001b[0;34m\u001b[0m\u001b[0;34m\u001b[0m\u001b[0m\n",
      "\u001b[0;32m/var/folders/8r/ff0rscpx4nqdrybs1lktf4yh0000gp/T/ipykernel_32497/3843391804.py\u001b[0m in \u001b[0;36m?\u001b[0;34m(polygon_coords, start_date, end_date, vis_params, scale)\u001b[0m\n\u001b[1;32m     11\u001b[0m     \u001b[0;34m:\u001b[0m\u001b[0mparam\u001b[0m \u001b[0mscale\u001b[0m\u001b[0;34m:\u001b[0m \u001b[0mScale\u001b[0m \u001b[0;32min\u001b[0m \u001b[0mmeters\u001b[0m\u001b[0;34m;\u001b[0m \u001b[0;36m1\u001b[0m \u001b[0mmeter\u001b[0m \u001b[0;32mis\u001b[0m \u001b[0mtypical\u001b[0m \u001b[0;32mfor\u001b[0m \u001b[0mNAIP\u001b[0m \u001b[0mimagery\u001b[0m\u001b[0;34m.\u001b[0m\u001b[0;34m\u001b[0m\u001b[0;34m\u001b[0m\u001b[0m\n\u001b[1;32m     12\u001b[0m     \u001b[0;34m:\u001b[0m\u001b[0;32mreturn\u001b[0m\u001b[0;34m:\u001b[0m \u001b[0mA\u001b[0m \u001b[0mURL\u001b[0m \u001b[0;32mfrom\u001b[0m \u001b[0mwhich\u001b[0m \u001b[0mthe\u001b[0m \u001b[0mimage\u001b[0m \u001b[0mcan\u001b[0m \u001b[0mbe\u001b[0m \u001b[0mdirectly\u001b[0m \u001b[0mdownloaded\u001b[0m\u001b[0;34m.\u001b[0m\u001b[0;34m\u001b[0m\u001b[0;34m\u001b[0m\u001b[0m\n\u001b[1;32m     13\u001b[0m     \"\"\"\n\u001b[1;32m     14\u001b[0m     \u001b[0;31m# Create an Earth Engine polygon\u001b[0m\u001b[0;34m\u001b[0m\u001b[0;34m\u001b[0m\u001b[0m\n\u001b[0;32m---> 15\u001b[0;31m     \u001b[0mroi\u001b[0m \u001b[0;34m=\u001b[0m \u001b[0mee\u001b[0m\u001b[0;34m.\u001b[0m\u001b[0mGeometry\u001b[0m\u001b[0;34m.\u001b[0m\u001b[0mPolygon\u001b[0m\u001b[0;34m(\u001b[0m\u001b[0;34m[\u001b[0m\u001b[0mpolygon_coords\u001b[0m\u001b[0;34m]\u001b[0m\u001b[0;34m)\u001b[0m\u001b[0;34m\u001b[0m\u001b[0;34m\u001b[0m\u001b[0m\n\u001b[0m\u001b[1;32m     16\u001b[0m \u001b[0;34m\u001b[0m\u001b[0m\n\u001b[1;32m     17\u001b[0m     \u001b[0;31m# Filter the NAIP ImageCollection\u001b[0m\u001b[0;34m\u001b[0m\u001b[0;34m\u001b[0m\u001b[0m\n\u001b[1;32m     18\u001b[0m     naip_collection = ee.ImageCollection('USDA/NAIP/DOQQ') \\\n",
      "\u001b[0;32m~/opt/anaconda3/envs/myenv/lib/python3.12/site-packages/ee/geometry.py\u001b[0m in \u001b[0;36m?\u001b[0;34m(coords, proj, geodesic, maxError, evenOdd, *args)\u001b[0m\n\u001b[1;32m    538\u001b[0m       \u001b[0mAn\u001b[0m \u001b[0mee\u001b[0m\u001b[0;34m.\u001b[0m\u001b[0mGeometry\u001b[0m \u001b[0mdescribing\u001b[0m \u001b[0ma\u001b[0m \u001b[0mpolygon\u001b[0m\u001b[0;34m.\u001b[0m\u001b[0;34m\u001b[0m\u001b[0;34m\u001b[0m\u001b[0m\n\u001b[1;32m    539\u001b[0m     \"\"\"\n\u001b[1;32m    540\u001b[0m     all_args = Geometry._GetSpecifiedArgs((coords, proj, geodesic, maxError,\n\u001b[1;32m    541\u001b[0m                                            \u001b[0mevenOdd\u001b[0m\u001b[0;34m)\u001b[0m \u001b[0;34m+\u001b[0m \u001b[0margs\u001b[0m\u001b[0;34m)\u001b[0m\u001b[0;34m\u001b[0m\u001b[0;34m\u001b[0m\u001b[0m\n\u001b[0;32m--> 542\u001b[0;31m     \u001b[0;32mreturn\u001b[0m \u001b[0mGeometry\u001b[0m\u001b[0;34m(\u001b[0m\u001b[0mGeometry\u001b[0m\u001b[0;34m.\u001b[0m\u001b[0m_parseArgs\u001b[0m\u001b[0;34m(\u001b[0m\u001b[0;34m'Polygon'\u001b[0m\u001b[0;34m,\u001b[0m \u001b[0;36m3\u001b[0m\u001b[0;34m,\u001b[0m \u001b[0mall_args\u001b[0m\u001b[0;34m)\u001b[0m\u001b[0;34m)\u001b[0m\u001b[0;34m\u001b[0m\u001b[0;34m\u001b[0m\u001b[0m\n\u001b[0m",
      "\u001b[0;32m~/opt/anaconda3/envs/myenv/lib/python3.12/site-packages/ee/geometry.py\u001b[0m in \u001b[0;36m?\u001b[0;34m(ctor_name, depth, args)\u001b[0m\n\u001b[1;32m    784\u001b[0m       \u001b[0;32mreturn\u001b[0m \u001b[0mapifunction\u001b[0m\u001b[0;34m.\u001b[0m\u001b[0mApiFunction\u001b[0m\u001b[0;34m.\u001b[0m\u001b[0mlookup\u001b[0m\u001b[0;34m(\u001b[0m\u001b[0mserver_name\u001b[0m\u001b[0;34m)\u001b[0m\u001b[0;34m.\u001b[0m\u001b[0mapply\u001b[0m\u001b[0;34m(\u001b[0m\u001b[0mresult\u001b[0m\u001b[0;34m)\u001b[0m\u001b[0;34m\u001b[0m\u001b[0;34m\u001b[0m\u001b[0m\n\u001b[1;32m    785\u001b[0m     \u001b[0;32melse\u001b[0m\u001b[0;34m:\u001b[0m\u001b[0;34m\u001b[0m\u001b[0;34m\u001b[0m\u001b[0m\n\u001b[1;32m    786\u001b[0m       \u001b[0;31m# Everything can be handled here, so check the depth and init this object.\u001b[0m\u001b[0;34m\u001b[0m\u001b[0;34m\u001b[0m\u001b[0m\n\u001b[1;32m    787\u001b[0m       \u001b[0mresult\u001b[0m\u001b[0;34m[\u001b[0m\u001b[0;34m'type'\u001b[0m\u001b[0;34m]\u001b[0m \u001b[0;34m=\u001b[0m \u001b[0mctor_name\u001b[0m\u001b[0;34m\u001b[0m\u001b[0;34m\u001b[0m\u001b[0m\n\u001b[0;32m--> 788\u001b[0;31m       \u001b[0mresult\u001b[0m\u001b[0;34m[\u001b[0m\u001b[0;34m'coordinates'\u001b[0m\u001b[0;34m]\u001b[0m \u001b[0;34m=\u001b[0m \u001b[0mGeometry\u001b[0m\u001b[0;34m.\u001b[0m\u001b[0m_fixDepth\u001b[0m\u001b[0;34m(\u001b[0m\u001b[0mdepth\u001b[0m\u001b[0;34m,\u001b[0m \u001b[0mresult\u001b[0m\u001b[0;34m[\u001b[0m\u001b[0;34m'coordinates'\u001b[0m\u001b[0;34m]\u001b[0m\u001b[0;34m)\u001b[0m\u001b[0;34m\u001b[0m\u001b[0;34m\u001b[0m\u001b[0m\n\u001b[0m\u001b[1;32m    789\u001b[0m       \u001b[0;31m# Enable evenOdd by default for any kind of polygon.\u001b[0m\u001b[0;34m\u001b[0m\u001b[0;34m\u001b[0m\u001b[0m\n\u001b[1;32m    790\u001b[0m       if ('evenOdd' not in result and\n\u001b[1;32m    791\u001b[0m           \u001b[0mctor_name\u001b[0m \u001b[0;32min\u001b[0m \u001b[0;34m[\u001b[0m\u001b[0;34m'Polygon'\u001b[0m\u001b[0;34m,\u001b[0m \u001b[0;34m'Rectangle'\u001b[0m\u001b[0;34m,\u001b[0m \u001b[0;34m'MultiPolygon'\u001b[0m\u001b[0;34m]\u001b[0m\u001b[0;34m)\u001b[0m\u001b[0;34m:\u001b[0m\u001b[0;34m\u001b[0m\u001b[0;34m\u001b[0m\u001b[0m\n",
      "\u001b[0;32m~/opt/anaconda3/envs/myenv/lib/python3.12/site-packages/ee/geometry.py\u001b[0m in \u001b[0;36m?\u001b[0;34m(depth, coords)\u001b[0m\n\u001b[1;32m    844\u001b[0m     \u001b[0;32mwhile\u001b[0m \u001b[0mcount\u001b[0m \u001b[0;34m<\u001b[0m \u001b[0mdepth\u001b[0m\u001b[0;34m:\u001b[0m\u001b[0;34m\u001b[0m\u001b[0;34m\u001b[0m\u001b[0m\n\u001b[1;32m    845\u001b[0m       \u001b[0mcoords\u001b[0m \u001b[0;34m=\u001b[0m \u001b[0;34m[\u001b[0m\u001b[0mcoords\u001b[0m\u001b[0;34m]\u001b[0m\u001b[0;34m\u001b[0m\u001b[0;34m\u001b[0m\u001b[0m\n\u001b[1;32m    846\u001b[0m       \u001b[0mcount\u001b[0m \u001b[0;34m+=\u001b[0m \u001b[0;36m1\u001b[0m\u001b[0;34m\u001b[0m\u001b[0;34m\u001b[0m\u001b[0m\n\u001b[1;32m    847\u001b[0m \u001b[0;34m\u001b[0m\u001b[0m\n\u001b[0;32m--> 848\u001b[0;31m     \u001b[0;32mif\u001b[0m \u001b[0mGeometry\u001b[0m\u001b[0;34m.\u001b[0m\u001b[0m_isValidCoordinates\u001b[0m\u001b[0;34m(\u001b[0m\u001b[0mcoords\u001b[0m\u001b[0;34m)\u001b[0m \u001b[0;34m!=\u001b[0m \u001b[0mdepth\u001b[0m\u001b[0;34m:\u001b[0m\u001b[0;34m\u001b[0m\u001b[0;34m\u001b[0m\u001b[0m\n\u001b[0m\u001b[1;32m    849\u001b[0m       \u001b[0;32mraise\u001b[0m \u001b[0mee_exception\u001b[0m\u001b[0;34m.\u001b[0m\u001b[0mEEException\u001b[0m\u001b[0;34m(\u001b[0m\u001b[0;34m'Invalid geometry.'\u001b[0m\u001b[0;34m)\u001b[0m\u001b[0;34m\u001b[0m\u001b[0;34m\u001b[0m\u001b[0m\n\u001b[1;32m    850\u001b[0m \u001b[0;34m\u001b[0m\u001b[0m\n\u001b[1;32m    851\u001b[0m     \u001b[0;31m# Empty arrays should not be wrapped.\u001b[0m\u001b[0;34m\u001b[0m\u001b[0;34m\u001b[0m\u001b[0m\n",
      "\u001b[0;32m~/opt/anaconda3/envs/myenv/lib/python3.12/site-packages/ee/geometry.py\u001b[0m in \u001b[0;36m?\u001b[0;34m(shape)\u001b[0m\n\u001b[1;32m    695\u001b[0m       \u001b[0;32mreturn\u001b[0m \u001b[0;34m-\u001b[0m\u001b[0;36m1\u001b[0m\u001b[0;34m\u001b[0m\u001b[0;34m\u001b[0m\u001b[0m\n\u001b[1;32m    696\u001b[0m \u001b[0;34m\u001b[0m\u001b[0m\n\u001b[1;32m    697\u001b[0m     if (shape and isinstance(shape[0], collections.abc.Iterable) and\n\u001b[1;32m    698\u001b[0m         \u001b[0;32mnot\u001b[0m \u001b[0misinstance\u001b[0m\u001b[0;34m(\u001b[0m\u001b[0mshape\u001b[0m\u001b[0;34m[\u001b[0m\u001b[0;36m0\u001b[0m\u001b[0;34m]\u001b[0m\u001b[0;34m,\u001b[0m \u001b[0mstr\u001b[0m\u001b[0;34m)\u001b[0m\u001b[0;34m)\u001b[0m\u001b[0;34m:\u001b[0m\u001b[0;34m\u001b[0m\u001b[0;34m\u001b[0m\u001b[0m\n\u001b[0;32m--> 699\u001b[0;31m       \u001b[0mcount\u001b[0m \u001b[0;34m=\u001b[0m \u001b[0mGeometry\u001b[0m\u001b[0;34m.\u001b[0m\u001b[0m_isValidCoordinates\u001b[0m\u001b[0;34m(\u001b[0m\u001b[0mshape\u001b[0m\u001b[0;34m[\u001b[0m\u001b[0;36m0\u001b[0m\u001b[0;34m]\u001b[0m\u001b[0;34m)\u001b[0m\u001b[0;34m\u001b[0m\u001b[0;34m\u001b[0m\u001b[0m\n\u001b[0m\u001b[1;32m    700\u001b[0m       \u001b[0;31m# If more than 1 ring or polygon, they should have the same nesting.\u001b[0m\u001b[0;34m\u001b[0m\u001b[0;34m\u001b[0m\u001b[0m\n\u001b[1;32m    701\u001b[0m       \u001b[0;32mfor\u001b[0m \u001b[0mi\u001b[0m \u001b[0;32min\u001b[0m \u001b[0mrange\u001b[0m\u001b[0;34m(\u001b[0m\u001b[0;36m1\u001b[0m\u001b[0;34m,\u001b[0m \u001b[0mlen\u001b[0m\u001b[0;34m(\u001b[0m\u001b[0mshape\u001b[0m\u001b[0;34m)\u001b[0m\u001b[0;34m)\u001b[0m\u001b[0;34m:\u001b[0m\u001b[0;34m\u001b[0m\u001b[0;34m\u001b[0m\u001b[0m\n\u001b[1;32m    702\u001b[0m         \u001b[0;32mif\u001b[0m \u001b[0mGeometry\u001b[0m\u001b[0;34m.\u001b[0m\u001b[0m_isValidCoordinates\u001b[0m\u001b[0;34m(\u001b[0m\u001b[0mshape\u001b[0m\u001b[0;34m[\u001b[0m\u001b[0mi\u001b[0m\u001b[0;34m]\u001b[0m\u001b[0;34m)\u001b[0m \u001b[0;34m!=\u001b[0m \u001b[0mcount\u001b[0m\u001b[0;34m:\u001b[0m\u001b[0;34m\u001b[0m\u001b[0;34m\u001b[0m\u001b[0m\n",
      "\u001b[0;32m~/opt/anaconda3/envs/myenv/lib/python3.12/site-packages/ee/geometry.py\u001b[0m in \u001b[0;36m?\u001b[0;34m(shape)\u001b[0m\n\u001b[1;32m    695\u001b[0m       \u001b[0;32mreturn\u001b[0m \u001b[0;34m-\u001b[0m\u001b[0;36m1\u001b[0m\u001b[0;34m\u001b[0m\u001b[0;34m\u001b[0m\u001b[0m\n\u001b[1;32m    696\u001b[0m \u001b[0;34m\u001b[0m\u001b[0m\n\u001b[1;32m    697\u001b[0m     if (shape and isinstance(shape[0], collections.abc.Iterable) and\n\u001b[1;32m    698\u001b[0m         \u001b[0;32mnot\u001b[0m \u001b[0misinstance\u001b[0m\u001b[0;34m(\u001b[0m\u001b[0mshape\u001b[0m\u001b[0;34m[\u001b[0m\u001b[0;36m0\u001b[0m\u001b[0;34m]\u001b[0m\u001b[0;34m,\u001b[0m \u001b[0mstr\u001b[0m\u001b[0;34m)\u001b[0m\u001b[0;34m)\u001b[0m\u001b[0;34m:\u001b[0m\u001b[0;34m\u001b[0m\u001b[0;34m\u001b[0m\u001b[0m\n\u001b[0;32m--> 699\u001b[0;31m       \u001b[0mcount\u001b[0m \u001b[0;34m=\u001b[0m \u001b[0mGeometry\u001b[0m\u001b[0;34m.\u001b[0m\u001b[0m_isValidCoordinates\u001b[0m\u001b[0;34m(\u001b[0m\u001b[0mshape\u001b[0m\u001b[0;34m[\u001b[0m\u001b[0;36m0\u001b[0m\u001b[0;34m]\u001b[0m\u001b[0;34m)\u001b[0m\u001b[0;34m\u001b[0m\u001b[0;34m\u001b[0m\u001b[0m\n\u001b[0m\u001b[1;32m    700\u001b[0m       \u001b[0;31m# If more than 1 ring or polygon, they should have the same nesting.\u001b[0m\u001b[0;34m\u001b[0m\u001b[0;34m\u001b[0m\u001b[0m\n\u001b[1;32m    701\u001b[0m       \u001b[0;32mfor\u001b[0m \u001b[0mi\u001b[0m \u001b[0;32min\u001b[0m \u001b[0mrange\u001b[0m\u001b[0;34m(\u001b[0m\u001b[0;36m1\u001b[0m\u001b[0;34m,\u001b[0m \u001b[0mlen\u001b[0m\u001b[0;34m(\u001b[0m\u001b[0mshape\u001b[0m\u001b[0;34m)\u001b[0m\u001b[0;34m)\u001b[0m\u001b[0;34m:\u001b[0m\u001b[0;34m\u001b[0m\u001b[0;34m\u001b[0m\u001b[0m\n\u001b[1;32m    702\u001b[0m         \u001b[0;32mif\u001b[0m \u001b[0mGeometry\u001b[0m\u001b[0;34m.\u001b[0m\u001b[0m_isValidCoordinates\u001b[0m\u001b[0;34m(\u001b[0m\u001b[0mshape\u001b[0m\u001b[0;34m[\u001b[0m\u001b[0mi\u001b[0m\u001b[0;34m]\u001b[0m\u001b[0;34m)\u001b[0m \u001b[0;34m!=\u001b[0m \u001b[0mcount\u001b[0m\u001b[0;34m:\u001b[0m\u001b[0;34m\u001b[0m\u001b[0;34m\u001b[0m\u001b[0m\n",
      "\u001b[0;32m~/opt/anaconda3/envs/myenv/lib/python3.12/site-packages/ee/geometry.py\u001b[0m in \u001b[0;36m?\u001b[0;34m(shape)\u001b[0m\n\u001b[1;32m    695\u001b[0m       \u001b[0;32mreturn\u001b[0m \u001b[0;34m-\u001b[0m\u001b[0;36m1\u001b[0m\u001b[0;34m\u001b[0m\u001b[0;34m\u001b[0m\u001b[0m\n\u001b[1;32m    696\u001b[0m \u001b[0;34m\u001b[0m\u001b[0m\n\u001b[1;32m    697\u001b[0m     if (shape and isinstance(shape[0], collections.abc.Iterable) and\n\u001b[1;32m    698\u001b[0m         \u001b[0;32mnot\u001b[0m \u001b[0misinstance\u001b[0m\u001b[0;34m(\u001b[0m\u001b[0mshape\u001b[0m\u001b[0;34m[\u001b[0m\u001b[0;36m0\u001b[0m\u001b[0;34m]\u001b[0m\u001b[0;34m,\u001b[0m \u001b[0mstr\u001b[0m\u001b[0;34m)\u001b[0m\u001b[0;34m)\u001b[0m\u001b[0;34m:\u001b[0m\u001b[0;34m\u001b[0m\u001b[0;34m\u001b[0m\u001b[0m\n\u001b[0;32m--> 699\u001b[0;31m       \u001b[0mcount\u001b[0m \u001b[0;34m=\u001b[0m \u001b[0mGeometry\u001b[0m\u001b[0;34m.\u001b[0m\u001b[0m_isValidCoordinates\u001b[0m\u001b[0;34m(\u001b[0m\u001b[0mshape\u001b[0m\u001b[0;34m[\u001b[0m\u001b[0;36m0\u001b[0m\u001b[0;34m]\u001b[0m\u001b[0;34m)\u001b[0m\u001b[0;34m\u001b[0m\u001b[0;34m\u001b[0m\u001b[0m\n\u001b[0m\u001b[1;32m    700\u001b[0m       \u001b[0;31m# If more than 1 ring or polygon, they should have the same nesting.\u001b[0m\u001b[0;34m\u001b[0m\u001b[0;34m\u001b[0m\u001b[0m\n\u001b[1;32m    701\u001b[0m       \u001b[0;32mfor\u001b[0m \u001b[0mi\u001b[0m \u001b[0;32min\u001b[0m \u001b[0mrange\u001b[0m\u001b[0;34m(\u001b[0m\u001b[0;36m1\u001b[0m\u001b[0;34m,\u001b[0m \u001b[0mlen\u001b[0m\u001b[0;34m(\u001b[0m\u001b[0mshape\u001b[0m\u001b[0;34m)\u001b[0m\u001b[0;34m)\u001b[0m\u001b[0;34m:\u001b[0m\u001b[0;34m\u001b[0m\u001b[0;34m\u001b[0m\u001b[0m\n\u001b[1;32m    702\u001b[0m         \u001b[0;32mif\u001b[0m \u001b[0mGeometry\u001b[0m\u001b[0;34m.\u001b[0m\u001b[0m_isValidCoordinates\u001b[0m\u001b[0;34m(\u001b[0m\u001b[0mshape\u001b[0m\u001b[0;34m[\u001b[0m\u001b[0mi\u001b[0m\u001b[0;34m]\u001b[0m\u001b[0;34m)\u001b[0m \u001b[0;34m!=\u001b[0m \u001b[0mcount\u001b[0m\u001b[0;34m:\u001b[0m\u001b[0;34m\u001b[0m\u001b[0;34m\u001b[0m\u001b[0m\n",
      "\u001b[0;32m~/opt/anaconda3/envs/myenv/lib/python3.12/site-packages/ee/geometry.py\u001b[0m in \u001b[0;36m?\u001b[0;34m(shape)\u001b[0m\n\u001b[1;32m    693\u001b[0m     \"\"\"\n\u001b[1;32m    694\u001b[0m     \u001b[0;32mif\u001b[0m \u001b[0;32mnot\u001b[0m \u001b[0misinstance\u001b[0m\u001b[0;34m(\u001b[0m\u001b[0mshape\u001b[0m\u001b[0;34m,\u001b[0m \u001b[0mcollections\u001b[0m\u001b[0;34m.\u001b[0m\u001b[0mabc\u001b[0m\u001b[0;34m.\u001b[0m\u001b[0mIterable\u001b[0m\u001b[0;34m)\u001b[0m\u001b[0;34m:\u001b[0m\u001b[0;34m\u001b[0m\u001b[0;34m\u001b[0m\u001b[0m\n\u001b[1;32m    695\u001b[0m       \u001b[0;32mreturn\u001b[0m \u001b[0;34m-\u001b[0m\u001b[0;36m1\u001b[0m\u001b[0;34m\u001b[0m\u001b[0;34m\u001b[0m\u001b[0m\n\u001b[1;32m    696\u001b[0m \u001b[0;34m\u001b[0m\u001b[0m\n\u001b[0;32m--> 697\u001b[0;31m     if (shape and isinstance(shape[0], collections.abc.Iterable) and\n\u001b[0m\u001b[1;32m    698\u001b[0m         \u001b[0;32mnot\u001b[0m \u001b[0misinstance\u001b[0m\u001b[0;34m(\u001b[0m\u001b[0mshape\u001b[0m\u001b[0;34m[\u001b[0m\u001b[0;36m0\u001b[0m\u001b[0;34m]\u001b[0m\u001b[0;34m,\u001b[0m \u001b[0mstr\u001b[0m\u001b[0;34m)\u001b[0m\u001b[0;34m)\u001b[0m\u001b[0;34m:\u001b[0m\u001b[0;34m\u001b[0m\u001b[0;34m\u001b[0m\u001b[0m\n\u001b[1;32m    699\u001b[0m       \u001b[0mcount\u001b[0m \u001b[0;34m=\u001b[0m \u001b[0mGeometry\u001b[0m\u001b[0;34m.\u001b[0m\u001b[0m_isValidCoordinates\u001b[0m\u001b[0;34m(\u001b[0m\u001b[0mshape\u001b[0m\u001b[0;34m[\u001b[0m\u001b[0;36m0\u001b[0m\u001b[0;34m]\u001b[0m\u001b[0;34m)\u001b[0m\u001b[0;34m\u001b[0m\u001b[0;34m\u001b[0m\u001b[0m\n\u001b[1;32m    700\u001b[0m       \u001b[0;31m# If more than 1 ring or polygon, they should have the same nesting.\u001b[0m\u001b[0;34m\u001b[0m\u001b[0;34m\u001b[0m\u001b[0m\n",
      "\u001b[0;32m~/opt/anaconda3/envs/myenv/lib/python3.12/site-packages/pandas/core/generic.py\u001b[0m in \u001b[0;36m?\u001b[0;34m(self)\u001b[0m\n\u001b[1;32m   1574\u001b[0m     \u001b[0;34m@\u001b[0m\u001b[0mfinal\u001b[0m\u001b[0;34m\u001b[0m\u001b[0;34m\u001b[0m\u001b[0m\n\u001b[1;32m   1575\u001b[0m     \u001b[0;32mdef\u001b[0m \u001b[0m__nonzero__\u001b[0m\u001b[0;34m(\u001b[0m\u001b[0mself\u001b[0m\u001b[0;34m)\u001b[0m \u001b[0;34m->\u001b[0m \u001b[0mNoReturn\u001b[0m\u001b[0;34m:\u001b[0m\u001b[0;34m\u001b[0m\u001b[0;34m\u001b[0m\u001b[0m\n\u001b[0;32m-> 1576\u001b[0;31m         raise ValueError(\n\u001b[0m\u001b[1;32m   1577\u001b[0m             \u001b[0;34mf\"\u001b[0m\u001b[0;34mThe truth value of a \u001b[0m\u001b[0;34m{\u001b[0m\u001b[0mtype\u001b[0m\u001b[0;34m(\u001b[0m\u001b[0mself\u001b[0m\u001b[0;34m)\u001b[0m\u001b[0;34m.\u001b[0m\u001b[0m__name__\u001b[0m\u001b[0;34m}\u001b[0m\u001b[0;34m is ambiguous. \u001b[0m\u001b[0;34m\"\u001b[0m\u001b[0;34m\u001b[0m\u001b[0;34m\u001b[0m\u001b[0m\n\u001b[1;32m   1578\u001b[0m             \u001b[0;34m\"Use a.empty, a.bool(), a.item(), a.any() or a.all().\"\u001b[0m\u001b[0;34m\u001b[0m\u001b[0;34m\u001b[0m\u001b[0m\n\u001b[1;32m   1579\u001b[0m         \u001b[0;34m)\u001b[0m\u001b[0;34m\u001b[0m\u001b[0;34m\u001b[0m\u001b[0m\n",
      "\u001b[0;31mValueError\u001b[0m: The truth value of a Series is ambiguous. Use a.empty, a.bool(), a.item(), a.any() or a.all()."
     ]
    }
   ],
   "source": [
    "# visualize individual tax parcel \n",
    "\n",
    "def get_image_download_url(polygon_coords, start_date, end_date, vis_params, scale=1):\n",
    "    \"\"\"\n",
    "    Generate a direct download URL for an image with visualization parameters.\n",
    "    \n",
    "    :param polygon_coords: Coordinates for the polygon defining the area of interest.\n",
    "    :param start_date: Start date for the image collection filter.\n",
    "    :param end_date: End date for the image collection filter.\n",
    "    :param vis_params: Visualization parameters including 'min', 'max', and bands 'palette' if needed.\n",
    "    :param scale: Scale in meters; 1 meter is typical for NAIP imagery.\n",
    "    :return: A URL from which the image can be directly downloaded.\n",
    "    \"\"\"\n",
    "    # Create an Earth Engine polygon\n",
    "    roi = ee.Geometry.Polygon([polygon_coords])\n",
    "    \n",
    "    # Filter the NAIP ImageCollection\n",
    "    naip_collection = ee.ImageCollection('USDA/NAIP/DOQQ') \\\n",
    "                        .filterBounds(roi) \\\n",
    "                        .filterDate(start_date, end_date)\n",
    "    \n",
    "    # Get the median image, clip to the ROI, and select RGB bands\n",
    "    median_image = naip_collection.median().clip(roi).select(['R', 'G', 'B'])\n",
    "    \n",
    "    # Generate the download URL with visualization parameters\n",
    "    url = median_image.getThumbURL({\n",
    "        'region': roi.getInfo()['coordinates'],\n",
    "        'scale': scale,\n",
    "        **vis_params  # Unpack visualization parameters\n",
    "    })\n",
    "    \n",
    "    return url\n",
    "\n",
    "# Visualization parameters for floating-point data\n",
    "vis_params = {\n",
    "    'min': 0.0,\n",
    "    'max': 255.0,\n",
    "    'format': 'png'\n",
    "}\n",
    "\n",
    "# Example polygon coordinates extracted from CSV\n",
    "#polygon_coords = [[-84.323, 34.077], [-84.322, 34.077], [-84.321, 34.078], [-84.322, 34.078], [-84.322, 34.077]]\n",
    "\n",
    "\n",
    "# Call the function with an example\n",
    "download_url = get_image_download_url(polygon_coords, '2022-01-01', '2022-2-15', vis_params)\n",
    "print(download_url)"
   ]
  },
  {
   "cell_type": "code",
   "execution_count": 59,
   "id": "efd424d2",
   "metadata": {},
   "outputs": [
    {
     "data": {
      "text/html": [
       "\n",
       "            <style>\n",
       "                .geemap-dark {\n",
       "                    --jp-widgets-color: white;\n",
       "                    --jp-widgets-label-color: white;\n",
       "                    --jp-ui-font-color1: white;\n",
       "                    --jp-layout-color2: #454545;\n",
       "                    background-color: #383838;\n",
       "                }\n",
       "                    \n",
       "                .geemap-dark .jupyter-button {\n",
       "                    --jp-layout-color3: #383838;\n",
       "                }\n",
       "                \n",
       "                .geemap-colab {\n",
       "                    background-color: var(--colab-primary-surface-color, white);\n",
       "                }\n",
       "                    \n",
       "                .geemap-colab .jupyter-button {\n",
       "                    --jp-layout-color3: var(--colab-primary-surface-color, white);\n",
       "                }\n",
       "            </style>\n",
       "            "
      ],
      "text/plain": [
       "<IPython.core.display.HTML object>"
      ]
     },
     "metadata": {},
     "output_type": "display_data"
    },
    {
     "name": "stdout",
     "output_type": "stream",
     "text": [
      "https://earthengine.googleapis.com/v1/projects/earthengine-legacy/thumbnails/7d89ed7b1cbda1d3b847eb21c2b8c5cc-60dbe86653a58250c43fb8632bcb87f8:getPixels\n",
      "https://earthengine.googleapis.com/v1/projects/earthengine-legacy/thumbnails/79d6c6912e5de65ea4fec03eb1e4d420-7d669f1211b9175783cb7f5a62a418d0:getPixels\n",
      "https://earthengine.googleapis.com/v1/projects/earthengine-legacy/thumbnails/b3cb73da2739ddbda36e558a36c67dd8-5bb1ddd2eb34b7ec7baca46a19b80a3c:getPixels\n",
      "https://earthengine.googleapis.com/v1/projects/earthengine-legacy/thumbnails/866c7780778b8096ef5cdfe907e3e756-0aa182b6dacb825aea8304047771bb07:getPixels\n",
      "https://earthengine.googleapis.com/v1/projects/earthengine-legacy/thumbnails/56cff9c57bcde14ac1dd8bda068962cd-872cf8ec0c8cd4dd853dd4a55c87317b:getPixels\n",
      "https://earthengine.googleapis.com/v1/projects/earthengine-legacy/thumbnails/e38f01a7b38a4248825cba6e48cfffdf-2595f4e9023ef1e3d3b21531db8998a9:getPixels\n",
      "https://earthengine.googleapis.com/v1/projects/earthengine-legacy/thumbnails/9440654c8c94beca5f7578a69d1acaa5-4aa04a310b280706f24c2d890b6c43c5:getPixels\n",
      "https://earthengine.googleapis.com/v1/projects/earthengine-legacy/thumbnails/74895cc9bf14ed7f5f65bd814ab4750c-7f57d6bbfed92a30e250a94433107a9b:getPixels\n",
      "https://earthengine.googleapis.com/v1/projects/earthengine-legacy/thumbnails/c9fd74af9f9be364efcaab71da00c86b-fe546e15d0f7275318dea55bb3a73583:getPixels\n",
      "https://earthengine.googleapis.com/v1/projects/earthengine-legacy/thumbnails/310717ad302082865a48fdf888659dd7-dfe3fabbcee774ba8d32875047f1d85c:getPixels\n",
      "https://earthengine.googleapis.com/v1/projects/earthengine-legacy/thumbnails/b90e6271aeadc2b9707b7b65e0ed2d2d-2425744ab94eb466a841be0d50991ef9:getPixels\n",
      "https://earthengine.googleapis.com/v1/projects/earthengine-legacy/thumbnails/92decb5a7b48f125335b7e013599c8a1-26a4c7140f9687c6dd8608550ac28be8:getPixels\n",
      "https://earthengine.googleapis.com/v1/projects/earthengine-legacy/thumbnails/ac65e20df93bb2f7786402619d1d930c-73463c8461202912dcc9efeef9534ae5:getPixels\n",
      "https://earthengine.googleapis.com/v1/projects/earthengine-legacy/thumbnails/e18e737f414f090ab61087d47cb107ea-dd7d005325dba4956454132016e632a0:getPixels\n",
      "https://earthengine.googleapis.com/v1/projects/earthengine-legacy/thumbnails/af38bd380af2b098f4bdd1c78e3ece78-1f62421102cac827053334364897cb5f:getPixels\n",
      "https://earthengine.googleapis.com/v1/projects/earthengine-legacy/thumbnails/72292968795173cf88d1990592d19f43-569c2e630d8763e6e40f65d435d4d479:getPixels\n",
      "https://earthengine.googleapis.com/v1/projects/earthengine-legacy/thumbnails/8a862e29a12a7d7214ac420c56b65505-eeb517cfbba634ccec2c9a4c2c2c3643:getPixels\n",
      "https://earthengine.googleapis.com/v1/projects/earthengine-legacy/thumbnails/6f5ef0cbf0754fc30d26d5fd79c5a706-abf335aef5cf12ab13239c782881f34b:getPixels\n",
      "https://earthengine.googleapis.com/v1/projects/earthengine-legacy/thumbnails/1c90cffb652ee1bc8a208681c55ae25a-cfdc1ee5469abd1f6491778262828998:getPixels\n",
      "https://earthengine.googleapis.com/v1/projects/earthengine-legacy/thumbnails/a1908b736656d0f52847bcecf3631cfe-1c12b9ed0076909b8b7326ff577b6a78:getPixels\n",
      "https://earthengine.googleapis.com/v1/projects/earthengine-legacy/thumbnails/ff4a4ca19a3a51030c3ffd9c0b5114c6-803a50e8077d32ba8942f7d972c32641:getPixels\n",
      "https://earthengine.googleapis.com/v1/projects/earthengine-legacy/thumbnails/7323a96bfc664dd54e1b79f250156040-aa44def2e3e12847ebcd2bc96b85d2d4:getPixels\n",
      "https://earthengine.googleapis.com/v1/projects/earthengine-legacy/thumbnails/f28c0c59f11b81e9e50f16c52a860687-8dd0b8d99a930cf9a27290f0edd4adab:getPixels\n",
      "https://earthengine.googleapis.com/v1/projects/earthengine-legacy/thumbnails/b06717a2308892290beb137bf00fe7fc-25712abd99cfa2ecbf015633f15d7180:getPixels\n",
      "https://earthengine.googleapis.com/v1/projects/earthengine-legacy/thumbnails/e4f4d3404f9543954d5f4379237cbf33-c148ec4a058ac705e3130799258d4e71:getPixels\n",
      "https://earthengine.googleapis.com/v1/projects/earthengine-legacy/thumbnails/e8465ca7ccce4fe237e9802b271cf5c6-a29a9b52278ac0ba022e5f79dc848fe0:getPixels\n",
      "https://earthengine.googleapis.com/v1/projects/earthengine-legacy/thumbnails/1dfb8f708da5c389d1e3a050c49d8042-c6232c48cb9c28e6ebd8ef2c49ce8aa9:getPixels\n",
      "https://earthengine.googleapis.com/v1/projects/earthengine-legacy/thumbnails/addc4fea5493da9ccf031faa20cd0eff-a46d6d12158034ec8e6eb6c937b3edec:getPixels\n",
      "https://earthengine.googleapis.com/v1/projects/earthengine-legacy/thumbnails/e97026c48c1a83a58f1b031f0e0340e5-41e1507ffef635ccca401ccc8e26ef8b:getPixels\n",
      "https://earthengine.googleapis.com/v1/projects/earthengine-legacy/thumbnails/0a12b63861fe33a60dc628d9ca00a1be-1381d9cfbee67e3fb575d834692a84ff:getPixels\n",
      "https://earthengine.googleapis.com/v1/projects/earthengine-legacy/thumbnails/9301019e2f8a2e28c2b198c1e84d68b8-20b6a2a440d2ad0a2ab2c8b958188e3b:getPixels\n",
      "https://earthengine.googleapis.com/v1/projects/earthengine-legacy/thumbnails/3c4081b1ddc5e928b1fb4fa0ba67cb16-d2fdeeb33fe928bd6560698563166d04:getPixels\n",
      "https://earthengine.googleapis.com/v1/projects/earthengine-legacy/thumbnails/c6108fda47fd48569d85845712639222-29070af0bb377a4f0a31a8bc162e02f9:getPixels\n",
      "https://earthengine.googleapis.com/v1/projects/earthengine-legacy/thumbnails/cd2112836416f95c5d959551deb9b0ef-eab1a1373b85e38467467bb704cfbf2d:getPixels\n",
      "https://earthengine.googleapis.com/v1/projects/earthengine-legacy/thumbnails/6081dee281577980759ef796bdcbde26-4c129e14f94f88257960ba912e64717b:getPixels\n",
      "https://earthengine.googleapis.com/v1/projects/earthengine-legacy/thumbnails/7eb5c84fbcbddc53f93be2d93a053cdd-a1633195c0d439cc31337654865b667a:getPixels\n",
      "https://earthengine.googleapis.com/v1/projects/earthengine-legacy/thumbnails/c28d7eabefe1bd02cfdcafba4233e449-155a7945a279c3e229b0ba47d3a9cc4d:getPixels\n",
      "https://earthengine.googleapis.com/v1/projects/earthengine-legacy/thumbnails/5b6b188afe7efb78e99e06bd6edb40ec-7fbf8e3c6771c5e859a7f6e84a220534:getPixels\n",
      "https://earthengine.googleapis.com/v1/projects/earthengine-legacy/thumbnails/24b32e524bb0f3f7199220ad335be1d9-03c0634d5ddcc39bcc46a61fe6505aeb:getPixels\n",
      "https://earthengine.googleapis.com/v1/projects/earthengine-legacy/thumbnails/b4fefd5669bd106e405a468875cc0894-d0a44a3fcc3b58c5ca7de187e0a4eec1:getPixels\n",
      "https://earthengine.googleapis.com/v1/projects/earthengine-legacy/thumbnails/5658850e181c2cba3d61bf79648777cc-8beed15f844a04afe42d030413715e48:getPixels\n",
      "https://earthengine.googleapis.com/v1/projects/earthengine-legacy/thumbnails/47a1a26037a7ff372c7f9559ae797e97-cf725c48c6a469f247d48efc874cb303:getPixels\n",
      "https://earthengine.googleapis.com/v1/projects/earthengine-legacy/thumbnails/bfcc6e851d209943bad5e1bbe83de116-5015a7648372b87d07ab57152e12e2e0:getPixels\n",
      "https://earthengine.googleapis.com/v1/projects/earthengine-legacy/thumbnails/d9a62f44221c6c89cdfc8bcbce222c79-7717eb2a23d6d59d0d2ec70b1fd96962:getPixels\n",
      "https://earthengine.googleapis.com/v1/projects/earthengine-legacy/thumbnails/ac1186474cdc0744be1e85799ddff990-8c4ca8a4c744aef61f3573ff61aa44f4:getPixels\n",
      "https://earthengine.googleapis.com/v1/projects/earthengine-legacy/thumbnails/0efcff8cfd5ffef7bac189f762baa6b1-3fb09c7f1b96a18b2b1c9a0dbf5c98a4:getPixels\n",
      "https://earthengine.googleapis.com/v1/projects/earthengine-legacy/thumbnails/683422c1a459f7584fa0aadc11c669ee-cca193eb398fc355e09d03f60eda0d87:getPixels\n",
      "https://earthengine.googleapis.com/v1/projects/earthengine-legacy/thumbnails/408ac20126c9a35858ba10f930e5fd4b-21b9f88189844a4e68bca74713dda85f:getPixels\n",
      "https://earthengine.googleapis.com/v1/projects/earthengine-legacy/thumbnails/4b9e092e1cca67c8593bb62e74e09525-0786cdf01974bcd19ad7c587ba7870d7:getPixels\n",
      "https://earthengine.googleapis.com/v1/projects/earthengine-legacy/thumbnails/35bc2a2a3a726a8a1414ad9cbd4db76b-4278b296644030cf1bdd56793aa8495e:getPixels\n",
      "https://earthengine.googleapis.com/v1/projects/earthengine-legacy/thumbnails/02e2a75c5817aee64ea903a4dfe4c576-b9d35282455c3db16fc9ad88bad27e73:getPixels\n",
      "https://earthengine.googleapis.com/v1/projects/earthengine-legacy/thumbnails/84d5e9ef71f38dc7c32d1cb7fcc64fee-4a0499754f2dd3a8489735e3fdd0471a:getPixels\n",
      "https://earthengine.googleapis.com/v1/projects/earthengine-legacy/thumbnails/27cb124198ca7a349c51fe79c5ffc7b4-8c7fa7117c84fd4f0224f0d61641756c:getPixels\n",
      "https://earthengine.googleapis.com/v1/projects/earthengine-legacy/thumbnails/5d52c540c4a2d7e2b686226eda6af988-a9a68bfefd8e62898eb447224761dbd1:getPixels\n",
      "https://earthengine.googleapis.com/v1/projects/earthengine-legacy/thumbnails/108d4b4ff28157950f194331bbe3edc7-daec5155519e7bbd599b1b49f267f073:getPixels\n",
      "https://earthengine.googleapis.com/v1/projects/earthengine-legacy/thumbnails/e9bebf26bc71f02bbb95a04b15a5d1a1-3c30880cb7d5d2efa1d4456b28204934:getPixels\n",
      "https://earthengine.googleapis.com/v1/projects/earthengine-legacy/thumbnails/6e475ba55be2984b224cf18efdb1d594-3382559a90229708bc71700cc984840a:getPixels\n",
      "https://earthengine.googleapis.com/v1/projects/earthengine-legacy/thumbnails/85632defcac7e3ada1cf756a474fd577-f9d497d04933ef64e6071df719041a0c:getPixels\n",
      "https://earthengine.googleapis.com/v1/projects/earthengine-legacy/thumbnails/113bc6152fbf65b167773dde7055cd25-9fd2575c0ab20a89eb71bddea8b3a05c:getPixels\n",
      "https://earthengine.googleapis.com/v1/projects/earthengine-legacy/thumbnails/baaaab0d288527391b144344b35724e4-e275dbe3aeab5af89c33e58313c39e8a:getPixels\n",
      "https://earthengine.googleapis.com/v1/projects/earthengine-legacy/thumbnails/a7284215d2e9b9d9595a741e21852a3b-5d98326cd09f022eabb3571c4244347a:getPixels\n",
      "https://earthengine.googleapis.com/v1/projects/earthengine-legacy/thumbnails/b4144bac29b758c73a8343098f7e9ad2-1ba83a206cbd8bbd0c1564f38c3d9d84:getPixels\n",
      "https://earthengine.googleapis.com/v1/projects/earthengine-legacy/thumbnails/b6c5cab8bb97a79d80a3d603f519219c-5cf2ca7bc045aeba52a44142c8d74535:getPixels\n",
      "https://earthengine.googleapis.com/v1/projects/earthengine-legacy/thumbnails/e80a8a85c7e9674193ed2d5953ea66ab-9f5b493923a7c3229a1964223c52a86a:getPixels\n",
      "https://earthengine.googleapis.com/v1/projects/earthengine-legacy/thumbnails/29ad58c798871db6fbdecff211075518-f440f207dcbcfc9d0ee4cfa9727a302c:getPixels\n",
      "https://earthengine.googleapis.com/v1/projects/earthengine-legacy/thumbnails/4da08cf1348e8be6dc6e6a5c9e622ccd-fd41b3143cb304f222ca3e36a7f35a95:getPixels\n",
      "https://earthengine.googleapis.com/v1/projects/earthengine-legacy/thumbnails/946c421fd62f07099c39e495906a27e5-c0670bacf3f26324995c52863d45ea3e:getPixels\n",
      "https://earthengine.googleapis.com/v1/projects/earthengine-legacy/thumbnails/ea2ee0fe481a43b2e06ce3e912abe0fa-f427940d6b454648a4a05bc1a9cb2a40:getPixels\n",
      "https://earthengine.googleapis.com/v1/projects/earthengine-legacy/thumbnails/1caa5544edbe7acc3fcc7d98f53c37cf-26409d5685c0fbce1a44820b20e73b48:getPixels\n",
      "https://earthengine.googleapis.com/v1/projects/earthengine-legacy/thumbnails/ac3dfd7551a8b135644ee134ae10188e-e704a74a2612c15bebc9fa3782dca860:getPixels\n",
      "https://earthengine.googleapis.com/v1/projects/earthengine-legacy/thumbnails/e5e4730a4e308f41ae7bec1bd966220e-0d8530d4102afcea2bd5d2a86c745341:getPixels\n",
      "https://earthengine.googleapis.com/v1/projects/earthengine-legacy/thumbnails/0ca6ce67a757af6a2ac15ba08e501331-3b6930148e4289fe59171d80bf7ca68e:getPixels\n",
      "https://earthengine.googleapis.com/v1/projects/earthengine-legacy/thumbnails/d4f4b561b9b6fe172f4fed420171917b-60ecac6ca732f238f6f0ae978bb52b62:getPixels\n",
      "https://earthengine.googleapis.com/v1/projects/earthengine-legacy/thumbnails/e6303bf221da3466ee3bcbb79489f2b3-7b4ae5f177438a16971522819e026c7b:getPixels\n",
      "https://earthengine.googleapis.com/v1/projects/earthengine-legacy/thumbnails/45f81bd2b53f6c3f9a7282a62be13108-afbade518725fb3dbdfa359cb4198351:getPixels\n",
      "https://earthengine.googleapis.com/v1/projects/earthengine-legacy/thumbnails/0b568b0987a289b19259d447f49f1ad9-8af9621cda5d0dcc49474ad66f3d303f:getPixels\n",
      "https://earthengine.googleapis.com/v1/projects/earthengine-legacy/thumbnails/9ddf2dc9ad7e97afa69969a0f9f88bc8-885ebfb2e74a5cd63ba35a60fcba5da7:getPixels\n",
      "https://earthengine.googleapis.com/v1/projects/earthengine-legacy/thumbnails/51b45821c7f9fee4dc1f3dfab4e20a65-a36972fed0019f6c3ec2268ca070c69d:getPixels\n",
      "https://earthengine.googleapis.com/v1/projects/earthengine-legacy/thumbnails/38b433943efc344c196a7f608703918b-8781d2bf9c98e66b952d81717c81c823:getPixels\n",
      "https://earthengine.googleapis.com/v1/projects/earthengine-legacy/thumbnails/43ab3ae86c3e244e6a446ad646032abf-0f757dabd4c57dcdc8253768cbc8c7c3:getPixels\n",
      "https://earthengine.googleapis.com/v1/projects/earthengine-legacy/thumbnails/1ca67888a1b783faf16c196e8362c85d-f00b93a66a3ed35e5a86018a40712938:getPixels\n",
      "https://earthengine.googleapis.com/v1/projects/earthengine-legacy/thumbnails/12ac850edf49a5a3873ce65063fc97ae-89f529e044df20a54e52a06f0339d767:getPixels\n",
      "https://earthengine.googleapis.com/v1/projects/earthengine-legacy/thumbnails/be68d397e5b27738dcae5b3e3c9bc666-e3b50d5af03042a5afc28f05ba15d852:getPixels\n",
      "https://earthengine.googleapis.com/v1/projects/earthengine-legacy/thumbnails/55fd0852cfc4135b8637c5be50a8a0c7-f31698a112839f23f17986afb9a839dd:getPixels\n",
      "https://earthengine.googleapis.com/v1/projects/earthengine-legacy/thumbnails/44c0e1966a4e92946a4d7641494ea451-530a209e72b26fbb69923862ebc2ddf4:getPixels\n",
      "https://earthengine.googleapis.com/v1/projects/earthengine-legacy/thumbnails/da96ef3ec0977d8dfb49c9a923c70c52-433bd8c807a0225b600068bf521fb47e:getPixels\n",
      "https://earthengine.googleapis.com/v1/projects/earthengine-legacy/thumbnails/bfcc6e851d209943bad5e1bbe83de116-12a23415a823e7e4379b87c819091e71:getPixels\n",
      "https://earthengine.googleapis.com/v1/projects/earthengine-legacy/thumbnails/7ed5a3c8afb175313e266bb1a5cfdf2c-7593618abfca7606ef4e14771e42d572:getPixels\n",
      "https://earthengine.googleapis.com/v1/projects/earthengine-legacy/thumbnails/68daf0b785935f5439568aacb3d60912-31676172e55c8f28e7ba7a903120c62f:getPixels\n",
      "https://earthengine.googleapis.com/v1/projects/earthengine-legacy/thumbnails/b6ad5d70e26b1a6b0512502aadbb3d1d-e3b199388cc8e94f69babacf822cd21b:getPixels\n",
      "https://earthengine.googleapis.com/v1/projects/earthengine-legacy/thumbnails/b8a56c29df9f2f97aa233be6cbb7cda6-9bd0f41b82bdac71ada6e72d8b0ba654:getPixels\n",
      "https://earthengine.googleapis.com/v1/projects/earthengine-legacy/thumbnails/ec8fbed2c150326e24a6f65c9868a300-bda55850167aa2ec67e6246b462effdb:getPixels\n",
      "https://earthengine.googleapis.com/v1/projects/earthengine-legacy/thumbnails/fff2944e53d9276125276e0afda3f47d-757c408dbd657a6c86fcf3ca4f332592:getPixels\n",
      "https://earthengine.googleapis.com/v1/projects/earthengine-legacy/thumbnails/cbf7931c08923cc1e903bdab0935535a-7f95c490f9b9e007a1d420a0fd7d8875:getPixels\n",
      "https://earthengine.googleapis.com/v1/projects/earthengine-legacy/thumbnails/507b4b1ddd159ccf293e4ec9504d5f5b-fc72fdc4ba4bc77b5ca493ace9920a80:getPixels\n",
      "https://earthengine.googleapis.com/v1/projects/earthengine-legacy/thumbnails/5a8c7df8f00967c1d4cd91cc25720239-665178d01217ad60dd1f43543252a0c3:getPixels\n",
      "https://earthengine.googleapis.com/v1/projects/earthengine-legacy/thumbnails/c88fa7021e6f7a723c6dd87e243fe35b-9991b2f2e90f916117ecf727adfe3894:getPixels\n",
      "https://earthengine.googleapis.com/v1/projects/earthengine-legacy/thumbnails/ad5804e9b2b6eb897c1a67c9308c5f65-02847460f1605e1b5d67d6d62417397e:getPixels\n",
      "https://earthengine.googleapis.com/v1/projects/earthengine-legacy/thumbnails/c847d7c65ee25fc13e5c84f036794838-22d8c3bf62acc4075d4f9cab5190de0e:getPixels\n",
      "https://earthengine.googleapis.com/v1/projects/earthengine-legacy/thumbnails/fd55e522a079859b7e8a824daf02ed8f-cd7befd34469dd568bcf0a63a873eb64:getPixels\n"
     ]
    }
   ],
   "source": [
    "\"\"\" csv_file_path = 'data/sample1.csv'\n",
    "df = pd.read_csv(csv_file_path)\n",
    "geometry_coordinates_list = df['geometry_coordinates'].tolist()\n",
    "# Fetching the images from GEE\n",
    "ee.Authenticate()\n",
    "ee.Initialize(project='baxsxasd') \"\"\"\n",
    "\n",
    "csv_file_path = 'data/newsample100.csv'\n",
    "df = pd.read_csv(csv_file_path)\n",
    "geometry_coordinates_list = df['geometry_coordinates'].tolist()\n",
    "\n",
    "def get_image_download_url(polygon_coords, start_date, end_date, vis_params, scale=0.5):\n",
    "    \"\"\"\n",
    "    Generate a direct download URL for an image with visualization parameters.\n",
    "    \n",
    "    :param polygon_coords: Coordinates for the polygon defining the area of interest.\n",
    "    :param start_date: Start date for the image collection filter.\n",
    "    :param end_date: End date for the image collection filter.\n",
    "    :param vis_params: Visualization parameters including 'min', 'max', and bands 'palette' if needed.\n",
    "    :param scale: Scale in meters; 1 meter is typical for NAIP imagery.\n",
    "    :return: A URL from which the image can be directly downloaded.\n",
    "    \"\"\"\n",
    "    roi = ee.Geometry.Polygon([polygon_coords])\n",
    "    \n",
    "    # Filter the NAIP ImageCollection\n",
    "    naip_collection = ee.ImageCollection('USDA/NAIP/DOQQ') \\\n",
    "                        .filterBounds(roi) \\\n",
    "                        .filterDate(start_date, end_date)\n",
    "    \n",
    "    # Get the median image, clip to the ROI, and select RGB bands\n",
    "    median_image = naip_collection.median().clip(roi).select(['R', 'G', 'B'])\n",
    "    \n",
    "    # # Set the default projection of the image\n",
    "    # default_proj = median_image.projection()\n",
    "    # median_image1 = median_image.setDefaultProjection(default_proj)\n",
    "\n",
    "    # # Resample the image to a lower resolution to reduce pixelization\n",
    "    # resampled_image = median_image1.reduceResolution(reducer=ee.Reducer.mean(), maxPixels=1024)\n",
    "\n",
    "    # Generate the download URL with visualization parameters\n",
    "    url = median_image.getThumbURL({\n",
    "        'region': roi.getInfo()['coordinates'],\n",
    "        'scale': scale,\n",
    "        **vis_params  # Unpack visualization parameters\n",
    "    })\n",
    "    \n",
    "    return url\n",
    "\n",
    "# Visualization parameters for floating-point data\n",
    "vis_params = {\n",
    "    'bands': ['R', 'G', 'B'],\n",
    "    'min': 0.0,\n",
    "    'max': 255.0\n",
    "\n",
    "}\n",
    "\n",
    "for polygon_coords_str in geometry_coordinates_list:\n",
    "    # Convert the string representation to a list (assuming it's safely formatted)\n",
    "    polygon_coords = eval(polygon_coords_str)\n",
    "    \n",
    "    # Generate the download URL\n",
    "    download_url = get_image_download_url(polygon_coords, '2020-01-01', '2023-12-30', vis_params, scale = 0.5)\n",
    "    print(download_url)\n",
    "\n",
    "    "
   ]
  },
  {
   "cell_type": "code",
   "execution_count": null,
   "id": "9f38b5c8",
   "metadata": {},
   "outputs": [
    {
     "data": {
      "text/html": [
       "\n",
       "            <style>\n",
       "                .geemap-dark {\n",
       "                    --jp-widgets-color: white;\n",
       "                    --jp-widgets-label-color: white;\n",
       "                    --jp-ui-font-color1: white;\n",
       "                    --jp-layout-color2: #454545;\n",
       "                    background-color: #383838;\n",
       "                }\n",
       "                    \n",
       "                .geemap-dark .jupyter-button {\n",
       "                    --jp-layout-color3: #383838;\n",
       "                }\n",
       "                \n",
       "                .geemap-colab {\n",
       "                    background-color: var(--colab-primary-surface-color, white);\n",
       "                }\n",
       "                    \n",
       "                .geemap-colab .jupyter-button {\n",
       "                    --jp-layout-color3: var(--colab-primary-surface-color, white);\n",
       "                }\n",
       "            </style>\n",
       "            "
      ],
      "text/plain": [
       "<IPython.core.display.HTML object>"
      ]
     },
     "metadata": {},
     "output_type": "display_data"
    },
    {
     "name": "stdout",
     "output_type": "stream",
     "text": [
      "Asset ID: thumbnails\n"
     ]
    }
   ],
   "source": [
    "\n",
    "\n",
    "\n",
    "# Thumbnail URL\n",
    "thumbnail_url = 'https://earthengine.googleapis.com/v1/projects/earthengine-legacy/thumbnails/d007e012d5d5ccbd5dc966b0971600d6-507aa02d80715d4a43c871971dc4ed2a:getPixels'\n",
    "\n",
    "# Extract the asset ID from the thumbnail URL\n",
    "asset_id = thumbnail_url.split('/')[-2]\n",
    "\n",
    "# Print the asset ID\n",
    "print(\"Asset ID:\", asset_id)\n",
    "\n"
   ]
  },
  {
   "cell_type": "code",
   "execution_count": null,
   "id": "df15ae2a",
   "metadata": {},
   "outputs": [
    {
     "name": "stdout",
     "output_type": "stream",
     "text": [
      "Exporting median image to Google Drive...\n"
     ]
    }
   ],
   "source": [
    "\n",
    "\n",
    "# Define the function to get the image download URL and export the median image\n",
    "def get_image_and_export(polygon_coords, start_date, end_date, output_path, vis_params, scale=1):\n",
    "    \"\"\"\n",
    "    Generate a direct download URL for an image with visualization parameters and export the median image.\n",
    "    \n",
    "    :param polygon_coords: Coordinates for the polygon defining the area of interest.\n",
    "    :param start_date: Start date for the image collection filter.\n",
    "    :param end_date: End date for the image collection filter.\n",
    "    :param output_path: Local path where the exported image will be saved.\n",
    "    :param vis_params: Visualization parameters including 'min', 'max', and bands 'palette' if needed.\n",
    "    :param scale: Scale in meters; 1 meter is typical for NAIP imagery.\n",
    "    \"\"\"\n",
    "    # Authenticate and initialize Earth Engine\n",
    "    ee.Initialize()\n",
    "    \n",
    "    # Define the region of interest\n",
    "    roi = ee.Geometry.Polygon([polygon_coords])\n",
    "    \n",
    "    # Filter the NAIP ImageCollection\n",
    "    naip_collection = ee.ImageCollection('USDA/NAIP/DOQQ') \\\n",
    "                        .filterBounds(roi) \\\n",
    "                        .filterDate(start_date, end_date)\n",
    "    \n",
    "    # Get the median image, clip to the ROI, and select RGB bands\n",
    "    median_image = naip_collection.median().clip(roi).select(['R', 'G', 'B'])\n",
    "    \n",
    "    # Export the median image to Google Drive\n",
    "    export_task = ee.batch.Export.image.toDrive(image=median_image,\n",
    "                                                description='median_image_export',\n",
    "                                                folder='earth_engine_exports',\n",
    "                                                fileNamePrefix='median_image',\n",
    "                                                region=roi,\n",
    "                                                scale=scale,\n",
    "                                                fileFormat='GeoTIFF')\n",
    "    export_task.start()\n",
    "\n",
    "    # Monitor the export task\n",
    "    print('Exporting median image to Google Drive...')\n",
    "\n",
    "# Example usage\n",
    "polygon_coords = [[-84.3219570886809, 34.0776338049394], [-84.3222598355553, 34.0775826902571], [-84.3222644330423, 34.0775821533882], [-84.3222706029606, 34.0775817479663], [-84.3222752446441, 34.0775816789761], [-84.3222814287089, 34.0775818992524], [-84.3222875798376, 34.0775824766072], [-84.3222921535182, 34.0775831416122], [-84.3222981746658, 34.0775843340284], [-84.3223026169916, 34.0775854554135], [-84.3223084203637, 34.0775872467734], [-84.3223154421995, 34.0775899499196], [-84.3223208395029, 34.0775924711948], [-84.322327270254, 34.0775960496498], [-84.3223333030951, 34.0776000794129], [-84.3223378137524, 34.0776036071046], [-84.3223420182325, 34.0776073858313], [-84.3223458980858, 34.0776113993874], [-84.322350262488, 34.0776167142529], [-84.3223533446141, 34.0776211805255], [-84.3223610479689, 34.0776345308077], [-84.3223668920169, 34.077644337417], [-84.3223729385296, 34.0776540590183], [-84.3223791842515, 34.0776636929107], [-84.322385629176, 34.0776732354879], [-84.3223922711311, 34.0776826840477], [-84.3223991068632, 34.077692036791], [-84.3224061352803, 34.0777012892112], [-84.322413354214, 34.0777104404092], [-84.3224207614904, 34.0777194867815], [-84.3224283549362, 34.0777284247242], [-84.322436131299, 34.07773725334], [-84.3224440905723, 34.0777459690222], [-84.3224522284187, 34.0777545699732], [-84.3224605426629, 34.0777630516876], [-84.3224690322215, 34.0777714141668], [-84.322475290727, 34.0777773676702], [-84.3221294753502, 34.0780105586958], [-84.3220723494629, 34.0780490458033], [-84.3219570886809, 34.0776338049394]]\n",
    "start_date = '2022-01-01' \n",
    "end_date = '2022-02-15'\n",
    "output_path = 'image/median_image.tif'  # Specify your local path here\n",
    "vis_params = {'min': 0, 'max': 255, 'bands': ['R', 'G', 'B']}\n",
    "scale = 1\n",
    "\n",
    "get_image_and_export(polygon_coords, start_date, end_date, output_path, vis_params, scale)\n"
   ]
  }
 ],
 "metadata": {
  "kernelspec": {
   "display_name": "Python 3 (ipykernel)",
   "language": "python",
   "name": "python3"
  },
  "language_info": {
   "codemirror_mode": {
    "name": "ipython",
    "version": 3
   },
   "file_extension": ".py",
   "mimetype": "text/x-python",
   "name": "python",
   "nbconvert_exporter": "python",
   "pygments_lexer": "ipython3",
   "version": "3.12.1"
  }
 },
 "nbformat": 4,
 "nbformat_minor": 5
}
